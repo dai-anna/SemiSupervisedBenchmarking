{
  "cells": [
    {
      "cell_type": "markdown",
      "metadata": {
        "id": "V-K9kchMgJDD"
      },
      "source": [
        "## SIMCLR Implementation\n"
      ]
    },
    {
      "cell_type": "markdown",
      "metadata": {
        "id": "qXNcTaPBHYjd"
      },
      "source": [
        "### Import Libraries"
      ]
    },
    {
      "cell_type": "code",
      "execution_count": null,
      "metadata": {
        "id": "6n1nTJyBgJDK"
      },
      "outputs": [],
      "source": [
        "# import necessary dependencies\n",
        "import argparse\n",
        "import os, sys\n",
        "import time\n",
        "import datetime\n",
        "import pickle\n",
        "import random\n",
        "from tqdm import tqdm\n",
        "\n",
        "import torch\n",
        "import torch.nn as nn\n",
        "import torch.nn.functional as F\n",
        "import torch.optim as optim\n",
        "from torch.utils.data import Dataset, DataLoader\n",
        "from torchvision import transforms\n",
        "from torchvision.datasets import CIFAR10\n",
        "from PIL import Image\n",
        "# from torchvision import datasets, transforms, models\n",
        "# from torch.optim.lr_scheduler import StepLR\n",
        "\n",
        "import numpy as np\n",
        "import pandas as pd\n",
        "\n",
        "# import shutil, time, os, requests, random, copy\n",
        "\n",
        "import matplotlib.pyplot as plt\n",
        "import seaborn as sns\n",
        "\n",
        "%matplotlib inline\n",
        "\n",
        "from sklearn.manifold import TSNE\n",
        "from torchlars import LARS\n",
        "# from pytorch_metric_learning import losses\n",
        "from lightly.loss import NTXentLoss\n",
        "\n",
        "# move one directory up to import from src\n",
        "if os.getcwd().split(\"/\")[-1] == \"notebooks\":\n",
        "    os.chdir(\"..\")\n",
        "\n",
        "# from src.setdevice import set_device"
      ]
    },
    {
      "cell_type": "markdown",
      "metadata": {
        "id": "pBZIPqbXHYjf"
      },
      "source": [
        "### Set Seeds"
      ]
    },
    {
      "cell_type": "code",
      "execution_count": null,
      "metadata": {
        "id": "SskcaVBxHYjf"
      },
      "outputs": [],
      "source": [
        "def set_seed(seed=42):\n",
        "    np.random.seed(seed)\n",
        "    torch.manual_seed(seed)\n",
        "    torch.cuda.manual_seed(seed)\n",
        "    random.seed(seed)\n",
        "set_seed()"
      ]
    },
    {
      "cell_type": "code",
      "execution_count": null,
      "metadata": {
        "colab": {
          "base_uri": "https://localhost:8080/"
        },
        "id": "IY7ItRwLZekU",
        "outputId": "39e0d6da-1a37-4f3a-8da3-9ec1f815d735"
      },
      "outputs": [
        {
          "name": "stdout",
          "output_type": "stream",
          "text": [
            "Running on cuda GPU...\n"
          ]
        }
      ],
      "source": [
        "def set_device():\n",
        "    if torch.cuda.is_available():  # check if NVIDIA GPU is available\n",
        "        device = torch.device(\"cuda\")\n",
        "    elif torch.backends.mps.is_available():  # check if Apple's Metal is available\n",
        "        device = torch.device(\"mps\")\n",
        "        print(\n",
        "            f\"Checking pytorch is built with mps activated: {torch.backends.mps.is_built()}\"\n",
        "        )\n",
        "    else:\n",
        "        device = torch.device(\"cpu\")\n",
        "\n",
        "    if device == torch.device(\"cuda\") or device == torch.device(\"mps\"):\n",
        "        print(f\"Running on {device} GPU...\")\n",
        "    else:\n",
        "        print(\"Running on CPU...\")\n",
        "\n",
        "    return device\n",
        "device = set_device()"
      ]
    },
    {
      "cell_type": "markdown",
      "metadata": {
        "id": "rs8eB9yNHYjn"
      },
      "source": [
        "### Define f(·) encoder - ResNet-20\n"
      ]
    },
    {
      "cell_type": "code",
      "execution_count": null,
      "metadata": {
        "id": "Fsohg9aQHYjn"
      },
      "outputs": [],
      "source": [
        "\"\"\"\n",
        "It is the neural network model base encoder f(·) that extracts representation vectors \n",
        "from augmented data examples. We choose to use the ResNet20 architecture.\n",
        "\"\"\"\n",
        "\n",
        "# Residual Block\n",
        "class BasicBlock(nn.Module):\n",
        "    def __init__(self, inplanes, planes, stride=1):\n",
        "        super(BasicBlock, self).__init__()\n",
        "        self.conv1 = nn.Conv2d(\n",
        "            in_channels=inplanes,\n",
        "            out_channels=planes,\n",
        "            kernel_size=3,\n",
        "            stride=stride,\n",
        "            padding=1,\n",
        "            bias=False,\n",
        "        )\n",
        "        self.bn1 = nn.BatchNorm2d(planes)\n",
        "        self.conv2 = nn.Conv2d(\n",
        "            planes, out_channels=planes, kernel_size=3, stride=1, padding=1, bias=False\n",
        "        )\n",
        "        self.bn2 = nn.BatchNorm2d(planes)\n",
        "        if inplanes > planes or stride > 1:\n",
        "            # Option B\n",
        "            self.downsample = nn.Sequential(\n",
        "                nn.Conv2d(\n",
        "                    in_channels=inplanes,\n",
        "                    out_channels=planes,\n",
        "                    kernel_size=1,\n",
        "                    stride=stride,\n",
        "                    padding=0,\n",
        "                    bias=False,\n",
        "                ),\n",
        "                nn.BatchNorm2d(planes),\n",
        "            )\n",
        "        else:\n",
        "            self.downsample = None\n",
        "        self.stride = stride\n",
        "\n",
        "    def forward(self, x):\n",
        "        identity = x\n",
        "        out = F.relu(self.bn1(self.conv1(x)))\n",
        "        out = self.bn2(self.conv2(out))\n",
        "        out += identity if self.downsample is None else self.downsample(identity)\n",
        "        out = F.relu(out)\n",
        "        return out\n",
        "\n",
        "\n",
        "# ResNet\n",
        "class ResNet(nn.Module):\n",
        "    def __init__(self, block, layers, num_classes=10):\n",
        "        super(ResNet, self).__init__()\n",
        "        self.inplanes = 16\n",
        "        self.conv0 = nn.Conv2d(\n",
        "            in_channels=3,\n",
        "            out_channels=self.inplanes,\n",
        "            kernel_size=3,\n",
        "            stride=1,\n",
        "            padding=1,\n",
        "            bias=False,\n",
        "        )\n",
        "        self.bn0 = nn.BatchNorm2d(self.inplanes)\n",
        "        self.layer1 = self._make_layer(block, planes=16, blocks=layers[0], stride=1)\n",
        "        self.layer2 = self._make_layer(block, planes=32, blocks=layers[1], stride=2)\n",
        "        self.layer3 = self._make_layer(block, planes=64, blocks=layers[2], stride=2)\n",
        "        self.avgpool = nn.AdaptiveAvgPool2d((1, 1))\n",
        "        # self.identity = nn.Identity()\n",
        "        # self.fc = nn.Linear(in_features=64, out_features=num_classes)\n",
        "\n",
        "    def _make_layer(self, block, planes, blocks, stride):\n",
        "        layers = []\n",
        "        for i in range(blocks):\n",
        "            layers.append(\n",
        "                block(\n",
        "                    inplanes=(self.inplanes if i == 0 else planes),\n",
        "                    planes=planes,\n",
        "                    stride=stride if i == 0 else 1,\n",
        "                )\n",
        "            )\n",
        "        self.inplanes = planes\n",
        "        return nn.Sequential(*layers)\n",
        "\n",
        "    def forward(self, x):\n",
        "        x = F.relu(self.bn0(self.conv0(x)))\n",
        "        x = self.layer1(x)\n",
        "        x = self.layer2(x)\n",
        "        x = self.layer3(x)\n",
        "        x = self.avgpool(x)\n",
        "        # x = self.identity(x)\n",
        "        x = x.view(x.size(0), -1)\n",
        "        # x = self.fc(x)\n",
        "        # x = self.identity(x)\n",
        "        return x\n"
      ]
    },
    {
      "cell_type": "markdown",
      "metadata": {
        "id": "v8Pj_2ZMHYjo"
      },
      "source": [
        "### Define g(·) projection head - MLP with linear layers"
      ]
    },
    {
      "cell_type": "code",
      "execution_count": null,
      "metadata": {
        "id": "EyLEMqiqHYjo"
      },
      "outputs": [],
      "source": [
        "\"\"\"\n",
        "It is the neural network projection head g(·) that maps representations to \n",
        "the space where contrastive loss is applied. There is the option to use a linear\n",
        "projection head or a nonlinear projection head (2 layer MLP).\n",
        "\"\"\"\n",
        "\n",
        "class LinearLayer(nn.Module):\n",
        "    def __init__(self, in_features, out_features, use_bias=False, use_bn=False):\n",
        "        super(LinearLayer, self).__init__()\n",
        "\n",
        "        self.use_bn = use_bn\n",
        "        self.linear = nn.Linear(\n",
        "            in_features=in_features,\n",
        "            out_features=out_features,\n",
        "            bias=use_bias and not use_bn,\n",
        "        )\n",
        "        self.bn = nn.BatchNorm1d(out_features)\n",
        "\n",
        "    def forward(self, x):\n",
        "        x = self.linear(x)\n",
        "        x = self.bn(x) if self.use_bn else x\n",
        "        return x\n",
        "\n",
        "\n",
        "class ProjectionHead(nn.Module):\n",
        "    def __init__(\n",
        "        self,\n",
        "        in_features,\n",
        "        hidden_features,\n",
        "        out_features,\n",
        "        head_type=\"nonlinear\",\n",
        "        use_bn=True,\n",
        "    ):\n",
        "        super(ProjectionHead, self).__init__()\n",
        "\n",
        "        if head_type == \"linear\":\n",
        "            self.layers = LinearLayer(\n",
        "                in_features=in_features,\n",
        "                out_features=out_features,\n",
        "                use_bias=False,\n",
        "                use_bn=True,\n",
        "            )\n",
        "        elif head_type == \"nonlinear\":\n",
        "            self.layers = nn.Sequential(\n",
        "                LinearLayer(\n",
        "                    in_features=in_features,\n",
        "                    out_features=hidden_features,\n",
        "                    use_bias=True,\n",
        "                    use_bn=use_bn,\n",
        "                ),\n",
        "                nn.ReLU(),\n",
        "                LinearLayer(\n",
        "                    in_features=hidden_features,\n",
        "                    out_features=out_features,\n",
        "                    use_bias=False,\n",
        "                    use_bn=use_bn,\n",
        "                ),\n",
        "            )\n",
        "\n",
        "    def forward(self, x):\n",
        "        x = self.layers(x)\n",
        "        return x\n"
      ]
    },
    {
      "cell_type": "markdown",
      "metadata": {
        "id": "qlxcCfxkHYjp"
      },
      "source": [
        "### Model"
      ]
    },
    {
      "cell_type": "code",
      "execution_count": null,
      "metadata": {
        "id": "iWgSWhf3HYjp"
      },
      "outputs": [],
      "source": [
        "class SimCLR(nn.Module):\n",
        "    \"\"\"\n",
        "    Creates SimCLR model given encoder\n",
        "    Args:\n",
        "      encoder (nn.Module): Encoder\n",
        "      projection_n_in (int): Number of input features of the projection head\n",
        "      projection_n_hidden (int): Number of hidden features of the projection head\n",
        "      projection_n_out (int): Number of output features of the projection head\n",
        "      projection_use_bn (bool): Whether to use batch norm in the projection head\n",
        "    \"\"\"\n",
        "\n",
        "    def __init__(\n",
        "        self,\n",
        "        encoder: nn.Module = ResNet(BasicBlock, [3, 3, 3]),\n",
        "        projection_n_in: int = 64, # TODO CHECK ON THIS\n",
        "        projection_n_hidden: int = 64,  # TODO CHECK ON THIS\n",
        "        projection_n_out: int = 128,\n",
        "        projection_use_bn: bool = True,\n",
        "    ):\n",
        "        super().__init__()\n",
        "\n",
        "        self.encoder = ResNet(BasicBlock, [3, 3, 3])\n",
        "        self.projection = ProjectionHead(\n",
        "            in_features=projection_n_in,\n",
        "            hidden_features=projection_n_hidden,\n",
        "            out_features=projection_n_out,\n",
        "            head_type=\"nonlinear\",\n",
        "            use_bn=projection_use_bn,\n",
        "        )\n",
        "\n",
        "    def forward(self, x):\n",
        "        feature = self.encoder(x)\n",
        "        x = self.projection(feature)\n",
        "        return F.normalize(feature, dim=-1), x\n"
      ]
    },
    {
      "cell_type": "code",
      "execution_count": null,
      "metadata": {
        "id": "mz1G3CktHYjp"
      },
      "outputs": [],
      "source": [
        "model = SimCLR().to(device)"
      ]
    },
    {
      "cell_type": "markdown",
      "metadata": {
        "id": "d_On6NO4HYjg"
      },
      "source": [
        "### Pre-processing functions for augmenting images"
      ]
    },
    {
      "cell_type": "code",
      "execution_count": null,
      "metadata": {
        "id": "UeDui5ckYMgu"
      },
      "outputs": [],
      "source": [
        "s = 0.5\n",
        "train_transform = transforms.Compose(\n",
        "            [\n",
        "                transforms.RandomResizedCrop(\n",
        "                    (32, 32),\n",
        "                    scale=(0.08, 1.0),\n",
        "                    ratio=(0.75, 1.3333333333333333),\n",
        "                ),\n",
        "                transforms.RandomHorizontalFlip(),\n",
        "                transforms.RandomApply(\n",
        "                    [transforms.ColorJitter(0.8 * s, 0.8 * s, 0.8 * s, 0.2 * s)], p=0.8\n",
        "                ),\n",
        "                transforms.RandomGrayscale(p=0.2),\n",
        "                # transforms.RandomApply([transforms.GaussianBlur(kernel_size = 3, sigma=(0.1, 2.0))], p=0.5),\n",
        "                transforms.ToTensor(),\n",
        "                transforms.Normalize(mean=[0.4914, 0.4822, 0.4465], std=[0.2023, 0.1994, 0.2010]),\n",
        "            ]\n",
        "        )\n",
        "\n",
        "test_transform = transforms.Compose(\n",
        "            [\n",
        "                transforms.ToTensor(),\n",
        "                transforms.Normalize(mean=[0.4914, 0.4822, 0.4465], std=[0.2023, 0.1994, 0.2010]),\n",
        "            ]\n",
        "        )"
      ]
    },
    {
      "cell_type": "markdown",
      "metadata": {
        "id": "kuD7_kecOYLt"
      },
      "source": [
        "### Setting up hyperparameters"
      ]
    },
    {
      "cell_type": "code",
      "execution_count": null,
      "metadata": {
        "id": "U9qOUqYUOYLt"
      },
      "outputs": [],
      "source": [
        "model = SimCLR().to(device)"
      ]
    },
    {
      "cell_type": "code",
      "execution_count": null,
      "metadata": {
        "colab": {
          "base_uri": "https://localhost:8080/"
        },
        "id": "bXT04Y1IOYLt",
        "outputId": "28b58a63-a5db-4ab3-ee08-ac5cf458e95d"
      },
      "outputs": [
        {
          "name": "stdout",
          "output_type": "stream",
          "text": [
            "Adjusting learning rate of group 0 to 1.2000e-03.\n",
            "Epoch 00000: adjusting learning rate of group 0 to 1.2000e-02.\n"
          ]
        }
      ],
      "source": [
        "# Tunable hyperparameters\n",
        "LRS = [0.5, 1, 1.5]\n",
        "TEMPS = [0.1, 0.5, 1.0]\n",
        "BATCHES = [256, 512, 1024, 2048, 4096]\n",
        "\n",
        "# for now\n",
        "# LR = 0.5\n",
        "TEMP = 0.5\n",
        "BATCH = 1024\n",
        "LR = 0.01 * 0.3*BATCH/256 #0.075 * np.sqrt(BATCH)\n",
        "EPOCHS = 100\n",
        "DECAY = 1e-6\n",
        "\n",
        "#############################################\n",
        "# loss function\n",
        "criterion = NTXentLoss(temperature=TEMP)\n",
        "\n",
        "# Add optimizer\n",
        "optimizer = LARS(optim.Adam(model.parameters(), lr=LR, weight_decay=DECAY))\n",
        "# optimizer = optim.Adam(model.parameters(), lr=LR, weight_decay=DECAY)\n",
        "\n",
        "# \"decay the learning rate with the cosine decay schedule without restarts\"\n",
        "# SCHEDULER OR LINEAR EWARMUP\n",
        "warmupscheduler = torch.optim.lr_scheduler.LambdaLR(\n",
        "    optimizer, lambda epoch: (epoch + 1) / 10.0, verbose=True\n",
        ")\n",
        "\n",
        "# # SCHEDULER FOR COSINE DECAY\n",
        "mainscheduler = torch.optim.lr_scheduler.CosineAnnealingWarmRestarts(\n",
        "    optimizer, 500, eta_min=0.05, last_epoch=-1, verbose=True\n",
        ")\n",
        "#############################################"
      ]
    },
    {
      "cell_type": "markdown",
      "metadata": {
        "id": "_gZOBZRLOYLu"
      },
      "source": [
        "### Setting up dataset and dataloader"
      ]
    },
    {
      "cell_type": "code",
      "execution_count": null,
      "metadata": {
        "colab": {
          "base_uri": "https://localhost:8080/"
        },
        "id": "2r2e1MurOYLu",
        "outputId": "d1cd7f71-6c6d-47ca-9b4f-229c1c65bd76"
      },
      "outputs": [
        {
          "name": "stdout",
          "output_type": "stream",
          "text": [
            "Files already downloaded and verified\n",
            "Files already downloaded and verified\n",
            "Files already downloaded and verified\n"
          ]
        }
      ],
      "source": [
        "# Alternative class for dataloader\n",
        "class getC10Pair(CIFAR10):\n",
        "\n",
        "    def __getitem__(self, idx):\n",
        "\n",
        "        img, label = self.data[idx], self.targets[idx]\n",
        "        img = Image.fromarray(img)\n",
        "\n",
        "        if self.transform is not None:\n",
        "            img1 = self.transform(img)\n",
        "            img2 = self.transform(img)\n",
        "\n",
        "        if self.target_transform is not None:\n",
        "            label = self.target_transform(label)\n",
        "\n",
        "        return img1, img2, label\n",
        "\n",
        "train_data = getC10Pair(root='data', train=True, transform=train_transform, download=True)\n",
        "train_loader = DataLoader(train_data, batch_size=BATCH, shuffle=True, num_workers=4,\n",
        "                            drop_last=True)\n",
        "\n",
        "memory_data = getC10Pair(root='data', train=True, transform=test_transform, download=True)\n",
        "memory_loader = DataLoader(memory_data, batch_size=BATCH, shuffle=False, num_workers=4)\n",
        "\n",
        "test_data = getC10Pair(root='data', train=False, transform=test_transform, download=True)\n",
        "test_loader = DataLoader(test_data, batch_size=BATCH, shuffle=False, num_workers=4)"
      ]
    },
    {
      "cell_type": "markdown",
      "metadata": {
        "id": "SKcDB-IuOYLu"
      },
      "source": [
        "### Training"
      ]
    },
    {
      "cell_type": "code",
      "execution_count": null,
      "metadata": {
        "colab": {
          "base_uri": "https://localhost:8080/"
        },
        "id": "Jv7xuXJQMutE",
        "outputId": "0396ed6a-dd20-44f3-99fe-73f13fb1597e"
      },
      "outputs": [
        {
          "name": "stdout",
          "output_type": "stream",
          "text": [
            "\n"
          ]
        },
        {
          "name": "stderr",
          "output_type": "stream",
          "text": [
            "Train Epoch: [1/100] Loss: 6.9873: 100%|██████████| 48/48 [00:23<00:00,  2.06it/s]\n"
          ]
        },
        {
          "name": "stdout",
          "output_type": "stream",
          "text": [
            "Adjusting learning rate of group 0 to 2.4000e-03.\n"
          ]
        },
        {
          "name": "stderr",
          "output_type": "stream",
          "text": [
            "Feature extracting: 100%|██████████| 49/49 [00:05<00:00,  9.35it/s]\n",
            "Test Epoch: [1/100] Acc@1:37.41% Acc@5:86.92%: 100%|██████████| 10/10 [00:01<00:00,  6.48it/s]\n"
          ]
        },
        {
          "name": "stdout",
          "output_type": "stream",
          "text": [
            "\n"
          ]
        },
        {
          "name": "stderr",
          "output_type": "stream",
          "text": [
            "Train Epoch: [2/100] Loss: 6.7828: 100%|██████████| 48/48 [00:23<00:00,  2.04it/s]\n"
          ]
        },
        {
          "name": "stdout",
          "output_type": "stream",
          "text": [
            "Adjusting learning rate of group 0 to 3.6000e-03.\n"
          ]
        },
        {
          "name": "stderr",
          "output_type": "stream",
          "text": [
            "Feature extracting: 100%|██████████| 49/49 [00:05<00:00,  9.48it/s]\n",
            "Test Epoch: [2/100] Acc@1:38.61% Acc@5:88.11%: 100%|██████████| 10/10 [00:01<00:00,  6.53it/s]\n"
          ]
        },
        {
          "name": "stdout",
          "output_type": "stream",
          "text": [
            "\n"
          ]
        },
        {
          "name": "stderr",
          "output_type": "stream",
          "text": [
            "Train Epoch: [3/100] Loss: 6.7270: 100%|██████████| 48/48 [00:23<00:00,  2.07it/s]\n"
          ]
        },
        {
          "name": "stdout",
          "output_type": "stream",
          "text": [
            "Adjusting learning rate of group 0 to 4.8000e-03.\n"
          ]
        },
        {
          "name": "stderr",
          "output_type": "stream",
          "text": [
            "Feature extracting: 100%|██████████| 49/49 [00:05<00:00,  9.64it/s]\n",
            "Test Epoch: [3/100] Acc@1:41.01% Acc@5:89.25%: 100%|██████████| 10/10 [00:01<00:00,  6.38it/s]\n"
          ]
        },
        {
          "name": "stdout",
          "output_type": "stream",
          "text": [
            "\n"
          ]
        },
        {
          "name": "stderr",
          "output_type": "stream",
          "text": [
            "Train Epoch: [4/100] Loss: 6.6671: 100%|██████████| 48/48 [00:23<00:00,  2.07it/s]\n"
          ]
        },
        {
          "name": "stdout",
          "output_type": "stream",
          "text": [
            "Adjusting learning rate of group 0 to 6.0000e-03.\n"
          ]
        },
        {
          "name": "stderr",
          "output_type": "stream",
          "text": [
            "Feature extracting: 100%|██████████| 49/49 [00:05<00:00,  9.39it/s]\n",
            "Test Epoch: [4/100] Acc@1:42.26% Acc@5:89.80%: 100%|██████████| 10/10 [00:01<00:00,  6.45it/s]\n"
          ]
        },
        {
          "name": "stdout",
          "output_type": "stream",
          "text": [
            "\n"
          ]
        },
        {
          "name": "stderr",
          "output_type": "stream",
          "text": [
            "Train Epoch: [5/100] Loss: 6.6382: 100%|██████████| 48/48 [00:23<00:00,  2.07it/s]\n"
          ]
        },
        {
          "name": "stdout",
          "output_type": "stream",
          "text": [
            "Adjusting learning rate of group 0 to 7.2000e-03.\n"
          ]
        },
        {
          "name": "stderr",
          "output_type": "stream",
          "text": [
            "Feature extracting: 100%|██████████| 49/49 [00:05<00:00,  9.32it/s]\n",
            "Test Epoch: [5/100] Acc@1:43.78% Acc@5:90.71%: 100%|██████████| 10/10 [00:01<00:00,  6.30it/s]\n"
          ]
        },
        {
          "name": "stdout",
          "output_type": "stream",
          "text": [
            "\n"
          ]
        },
        {
          "name": "stderr",
          "output_type": "stream",
          "text": [
            "Train Epoch: [6/100] Loss: 6.6099: 100%|██████████| 48/48 [00:23<00:00,  2.04it/s]\n"
          ]
        },
        {
          "name": "stdout",
          "output_type": "stream",
          "text": [
            "Adjusting learning rate of group 0 to 8.4000e-03.\n"
          ]
        },
        {
          "name": "stderr",
          "output_type": "stream",
          "text": [
            "Feature extracting: 100%|██████████| 49/49 [00:05<00:00,  9.53it/s]\n",
            "Test Epoch: [6/100] Acc@1:44.29% Acc@5:90.35%: 100%|██████████| 10/10 [00:01<00:00,  6.43it/s]\n"
          ]
        },
        {
          "name": "stdout",
          "output_type": "stream",
          "text": [
            "\n"
          ]
        },
        {
          "name": "stderr",
          "output_type": "stream",
          "text": [
            "Train Epoch: [7/100] Loss: 6.5703: 100%|██████████| 48/48 [00:23<00:00,  2.07it/s]\n"
          ]
        },
        {
          "name": "stdout",
          "output_type": "stream",
          "text": [
            "Adjusting learning rate of group 0 to 9.6000e-03.\n"
          ]
        },
        {
          "name": "stderr",
          "output_type": "stream",
          "text": [
            "Feature extracting: 100%|██████████| 49/49 [00:05<00:00,  9.47it/s]\n",
            "Test Epoch: [7/100] Acc@1:46.18% Acc@5:92.01%: 100%|██████████| 10/10 [00:01<00:00,  6.42it/s]\n"
          ]
        },
        {
          "name": "stdout",
          "output_type": "stream",
          "text": [
            "\n"
          ]
        },
        {
          "name": "stderr",
          "output_type": "stream",
          "text": [
            "Train Epoch: [8/100] Loss: 6.5488: 100%|██████████| 48/48 [00:23<00:00,  2.07it/s]\n"
          ]
        },
        {
          "name": "stdout",
          "output_type": "stream",
          "text": [
            "Adjusting learning rate of group 0 to 1.0800e-02.\n"
          ]
        },
        {
          "name": "stderr",
          "output_type": "stream",
          "text": [
            "Feature extracting: 100%|██████████| 49/49 [00:05<00:00,  9.50it/s]\n",
            "Test Epoch: [8/100] Acc@1:47.05% Acc@5:92.23%: 100%|██████████| 10/10 [00:01<00:00,  6.32it/s]\n"
          ]
        },
        {
          "name": "stdout",
          "output_type": "stream",
          "text": [
            "\n"
          ]
        },
        {
          "name": "stderr",
          "output_type": "stream",
          "text": [
            "Train Epoch: [9/100] Loss: 6.5076: 100%|██████████| 48/48 [00:23<00:00,  2.06it/s]\n"
          ]
        },
        {
          "name": "stdout",
          "output_type": "stream",
          "text": [
            "Adjusting learning rate of group 0 to 1.2000e-02.\n"
          ]
        },
        {
          "name": "stderr",
          "output_type": "stream",
          "text": [
            "Feature extracting: 100%|██████████| 49/49 [00:05<00:00,  9.64it/s]\n",
            "Test Epoch: [9/100] Acc@1:49.65% Acc@5:93.04%: 100%|██████████| 10/10 [00:01<00:00,  6.29it/s]\n"
          ]
        },
        {
          "name": "stdout",
          "output_type": "stream",
          "text": [
            "\n"
          ]
        },
        {
          "name": "stderr",
          "output_type": "stream",
          "text": [
            "Train Epoch: [10/100] Loss: 6.4864: 100%|██████████| 48/48 [00:23<00:00,  2.07it/s]\n"
          ]
        },
        {
          "name": "stdout",
          "output_type": "stream",
          "text": [
            "Adjusting learning rate of group 0 to 1.3200e-02.\n"
          ]
        },
        {
          "name": "stderr",
          "output_type": "stream",
          "text": [
            "Feature extracting: 100%|██████████| 49/49 [00:05<00:00,  9.53it/s]\n",
            "Test Epoch: [10/100] Acc@1:50.26% Acc@5:93.81%: 100%|██████████| 10/10 [00:01<00:00,  6.28it/s]\n"
          ]
        },
        {
          "name": "stdout",
          "output_type": "stream",
          "text": [
            "\n"
          ]
        },
        {
          "name": "stderr",
          "output_type": "stream",
          "text": [
            "Train Epoch: [11/100] Loss: 6.4609: 100%|██████████| 48/48 [00:23<00:00,  2.08it/s]\n"
          ]
        },
        {
          "name": "stdout",
          "output_type": "stream",
          "text": [
            "Adjusting learning rate of group 0 to 1.4400e-02.\n"
          ]
        },
        {
          "name": "stderr",
          "output_type": "stream",
          "text": [
            "Feature extracting: 100%|██████████| 49/49 [00:05<00:00,  9.51it/s]\n",
            "Test Epoch: [11/100] Acc@1:50.58% Acc@5:93.67%: 100%|██████████| 10/10 [00:01<00:00,  6.38it/s]\n"
          ]
        },
        {
          "name": "stdout",
          "output_type": "stream",
          "text": [
            "\n"
          ]
        },
        {
          "name": "stderr",
          "output_type": "stream",
          "text": [
            "Train Epoch: [12/100] Loss: 6.4492: 100%|██████████| 48/48 [00:23<00:00,  2.07it/s]\n"
          ]
        },
        {
          "name": "stdout",
          "output_type": "stream",
          "text": [
            "Adjusting learning rate of group 0 to 1.5600e-02.\n"
          ]
        },
        {
          "name": "stderr",
          "output_type": "stream",
          "text": [
            "Feature extracting: 100%|██████████| 49/49 [00:05<00:00,  9.49it/s]\n",
            "Test Epoch: [12/100] Acc@1:52.54% Acc@5:94.29%: 100%|██████████| 10/10 [00:01<00:00,  6.36it/s]\n"
          ]
        },
        {
          "name": "stdout",
          "output_type": "stream",
          "text": [
            "\n"
          ]
        },
        {
          "name": "stderr",
          "output_type": "stream",
          "text": [
            "Train Epoch: [13/100] Loss: 6.4270: 100%|██████████| 48/48 [00:23<00:00,  2.05it/s]\n"
          ]
        },
        {
          "name": "stdout",
          "output_type": "stream",
          "text": [
            "Adjusting learning rate of group 0 to 1.6800e-02.\n"
          ]
        },
        {
          "name": "stderr",
          "output_type": "stream",
          "text": [
            "Feature extracting: 100%|██████████| 49/49 [00:05<00:00,  9.20it/s]\n",
            "Test Epoch: [13/100] Acc@1:53.31% Acc@5:94.81%: 100%|██████████| 10/10 [00:01<00:00,  6.35it/s]\n"
          ]
        },
        {
          "name": "stdout",
          "output_type": "stream",
          "text": [
            "\n"
          ]
        },
        {
          "name": "stderr",
          "output_type": "stream",
          "text": [
            "Train Epoch: [14/100] Loss: 6.4100: 100%|██████████| 48/48 [00:23<00:00,  2.08it/s]\n"
          ]
        },
        {
          "name": "stdout",
          "output_type": "stream",
          "text": [
            "Adjusting learning rate of group 0 to 1.8000e-02.\n"
          ]
        },
        {
          "name": "stderr",
          "output_type": "stream",
          "text": [
            "Feature extracting: 100%|██████████| 49/49 [00:05<00:00,  9.39it/s]\n",
            "Test Epoch: [14/100] Acc@1:53.98% Acc@5:94.90%: 100%|██████████| 10/10 [00:01<00:00,  6.35it/s]\n"
          ]
        },
        {
          "name": "stdout",
          "output_type": "stream",
          "text": [
            "\n"
          ]
        },
        {
          "name": "stderr",
          "output_type": "stream",
          "text": [
            "Train Epoch: [15/100] Loss: 6.4001: 100%|██████████| 48/48 [00:23<00:00,  2.07it/s]\n"
          ]
        },
        {
          "name": "stdout",
          "output_type": "stream",
          "text": [
            "Adjusting learning rate of group 0 to 1.9200e-02.\n"
          ]
        },
        {
          "name": "stderr",
          "output_type": "stream",
          "text": [
            "Feature extracting: 100%|██████████| 49/49 [00:05<00:00,  9.57it/s]\n",
            "Test Epoch: [15/100] Acc@1:55.91% Acc@5:95.00%: 100%|██████████| 10/10 [00:01<00:00,  6.53it/s]\n"
          ]
        },
        {
          "name": "stdout",
          "output_type": "stream",
          "text": [
            "\n"
          ]
        },
        {
          "name": "stderr",
          "output_type": "stream",
          "text": [
            "Train Epoch: [16/100] Loss: 6.3886: 100%|██████████| 48/48 [00:23<00:00,  2.07it/s]\n"
          ]
        },
        {
          "name": "stdout",
          "output_type": "stream",
          "text": [
            "Adjusting learning rate of group 0 to 2.0400e-02.\n"
          ]
        },
        {
          "name": "stderr",
          "output_type": "stream",
          "text": [
            "Feature extracting: 100%|██████████| 49/49 [00:05<00:00,  9.51it/s]\n",
            "Test Epoch: [16/100] Acc@1:56.06% Acc@5:95.51%: 100%|██████████| 10/10 [00:01<00:00,  6.41it/s]\n"
          ]
        },
        {
          "name": "stdout",
          "output_type": "stream",
          "text": [
            "\n"
          ]
        },
        {
          "name": "stderr",
          "output_type": "stream",
          "text": [
            "Train Epoch: [17/100] Loss: 6.3794: 100%|██████████| 48/48 [00:23<00:00,  2.08it/s]\n"
          ]
        },
        {
          "name": "stdout",
          "output_type": "stream",
          "text": [
            "Adjusting learning rate of group 0 to 2.1600e-02.\n"
          ]
        },
        {
          "name": "stderr",
          "output_type": "stream",
          "text": [
            "Feature extracting: 100%|██████████| 49/49 [00:05<00:00,  9.58it/s]\n",
            "Test Epoch: [17/100] Acc@1:57.99% Acc@5:95.84%: 100%|██████████| 10/10 [00:01<00:00,  6.45it/s]\n"
          ]
        },
        {
          "name": "stdout",
          "output_type": "stream",
          "text": [
            "\n"
          ]
        },
        {
          "name": "stderr",
          "output_type": "stream",
          "text": [
            "Train Epoch: [18/100] Loss: 6.3658: 100%|██████████| 48/48 [00:23<00:00,  2.07it/s]\n"
          ]
        },
        {
          "name": "stdout",
          "output_type": "stream",
          "text": [
            "Adjusting learning rate of group 0 to 2.2800e-02.\n"
          ]
        },
        {
          "name": "stderr",
          "output_type": "stream",
          "text": [
            "Feature extracting: 100%|██████████| 49/49 [00:05<00:00,  9.45it/s]\n",
            "Test Epoch: [18/100] Acc@1:58.27% Acc@5:96.05%: 100%|██████████| 10/10 [00:01<00:00,  6.37it/s]\n"
          ]
        },
        {
          "name": "stdout",
          "output_type": "stream",
          "text": [
            "\n"
          ]
        },
        {
          "name": "stderr",
          "output_type": "stream",
          "text": [
            "Train Epoch: [19/100] Loss: 6.3594: 100%|██████████| 48/48 [00:23<00:00,  2.08it/s]\n"
          ]
        },
        {
          "name": "stdout",
          "output_type": "stream",
          "text": [
            "Adjusting learning rate of group 0 to 2.4000e-02.\n"
          ]
        },
        {
          "name": "stderr",
          "output_type": "stream",
          "text": [
            "Feature extracting: 100%|██████████| 49/49 [00:05<00:00,  9.58it/s]\n",
            "Test Epoch: [19/100] Acc@1:58.70% Acc@5:95.90%: 100%|██████████| 10/10 [00:01<00:00,  6.42it/s]\n"
          ]
        },
        {
          "name": "stdout",
          "output_type": "stream",
          "text": [
            "\n"
          ]
        },
        {
          "name": "stderr",
          "output_type": "stream",
          "text": [
            "Train Epoch: [20/100] Loss: 6.3516: 100%|██████████| 48/48 [00:23<00:00,  2.05it/s]\n"
          ]
        },
        {
          "name": "stdout",
          "output_type": "stream",
          "text": [
            "Adjusting learning rate of group 0 to 2.5200e-02.\n"
          ]
        },
        {
          "name": "stderr",
          "output_type": "stream",
          "text": [
            "Feature extracting: 100%|██████████| 49/49 [00:05<00:00,  9.26it/s]\n",
            "Test Epoch: [20/100] Acc@1:59.74% Acc@5:96.15%: 100%|██████████| 10/10 [00:01<00:00,  6.54it/s]\n"
          ]
        },
        {
          "name": "stdout",
          "output_type": "stream",
          "text": [
            "\n"
          ]
        },
        {
          "name": "stderr",
          "output_type": "stream",
          "text": [
            "Train Epoch: [21/100] Loss: 6.3425: 100%|██████████| 48/48 [00:23<00:00,  2.07it/s]\n"
          ]
        },
        {
          "name": "stdout",
          "output_type": "stream",
          "text": [
            "Epoch 00001: adjusting learning rate of group 0 to 1.2000e-02.\n"
          ]
        },
        {
          "name": "stderr",
          "output_type": "stream",
          "text": [
            "Feature extracting: 100%|██████████| 49/49 [00:05<00:00,  9.58it/s]\n",
            "Test Epoch: [21/100] Acc@1:60.81% Acc@5:96.54%: 100%|██████████| 10/10 [00:01<00:00,  6.45it/s]\n"
          ]
        },
        {
          "name": "stdout",
          "output_type": "stream",
          "text": [
            "\n"
          ]
        },
        {
          "name": "stderr",
          "output_type": "stream",
          "text": [
            "Train Epoch: [22/100] Loss: 6.3039: 100%|██████████| 48/48 [00:23<00:00,  2.06it/s]\n"
          ]
        },
        {
          "name": "stdout",
          "output_type": "stream",
          "text": [
            "Epoch 00002: adjusting learning rate of group 0 to 1.2002e-02.\n"
          ]
        },
        {
          "name": "stderr",
          "output_type": "stream",
          "text": [
            "Feature extracting: 100%|██████████| 49/49 [00:05<00:00,  9.55it/s]\n",
            "Test Epoch: [22/100] Acc@1:61.45% Acc@5:96.67%: 100%|██████████| 10/10 [00:01<00:00,  6.45it/s]\n"
          ]
        },
        {
          "name": "stdout",
          "output_type": "stream",
          "text": [
            "\n"
          ]
        },
        {
          "name": "stderr",
          "output_type": "stream",
          "text": [
            "Train Epoch: [23/100] Loss: 6.2953: 100%|██████████| 48/48 [00:23<00:00,  2.08it/s]\n"
          ]
        },
        {
          "name": "stdout",
          "output_type": "stream",
          "text": [
            "Epoch 00003: adjusting learning rate of group 0 to 1.2003e-02.\n"
          ]
        },
        {
          "name": "stderr",
          "output_type": "stream",
          "text": [
            "Feature extracting: 100%|██████████| 49/49 [00:05<00:00,  9.64it/s]\n",
            "Test Epoch: [23/100] Acc@1:62.64% Acc@5:96.78%: 100%|██████████| 10/10 [00:01<00:00,  6.38it/s]\n"
          ]
        },
        {
          "name": "stdout",
          "output_type": "stream",
          "text": [
            "\n"
          ]
        },
        {
          "name": "stderr",
          "output_type": "stream",
          "text": [
            "Train Epoch: [24/100] Loss: 6.2864: 100%|██████████| 48/48 [00:23<00:00,  2.08it/s]\n"
          ]
        },
        {
          "name": "stdout",
          "output_type": "stream",
          "text": [
            "Epoch 00004: adjusting learning rate of group 0 to 1.2006e-02.\n"
          ]
        },
        {
          "name": "stderr",
          "output_type": "stream",
          "text": [
            "Feature extracting: 100%|██████████| 49/49 [00:05<00:00,  9.35it/s]\n",
            "Test Epoch: [24/100] Acc@1:62.32% Acc@5:96.81%: 100%|██████████| 10/10 [00:01<00:00,  6.51it/s]\n"
          ]
        },
        {
          "name": "stdout",
          "output_type": "stream",
          "text": [
            "\n"
          ]
        },
        {
          "name": "stderr",
          "output_type": "stream",
          "text": [
            "Train Epoch: [25/100] Loss: 6.2832: 100%|██████████| 48/48 [00:23<00:00,  2.07it/s]\n"
          ]
        },
        {
          "name": "stdout",
          "output_type": "stream",
          "text": [
            "Epoch 00005: adjusting learning rate of group 0 to 1.2009e-02.\n"
          ]
        },
        {
          "name": "stderr",
          "output_type": "stream",
          "text": [
            "Feature extracting: 100%|██████████| 49/49 [00:05<00:00,  9.60it/s]\n",
            "Test Epoch: [25/100] Acc@1:62.75% Acc@5:96.63%: 100%|██████████| 10/10 [00:01<00:00,  6.42it/s]\n"
          ]
        },
        {
          "name": "stdout",
          "output_type": "stream",
          "text": [
            "\n"
          ]
        },
        {
          "name": "stderr",
          "output_type": "stream",
          "text": [
            "Train Epoch: [26/100] Loss: 6.2759: 100%|██████████| 48/48 [00:23<00:00,  2.05it/s]\n"
          ]
        },
        {
          "name": "stdout",
          "output_type": "stream",
          "text": [
            "Epoch 00006: adjusting learning rate of group 0 to 1.2014e-02.\n"
          ]
        },
        {
          "name": "stderr",
          "output_type": "stream",
          "text": [
            "Feature extracting: 100%|██████████| 49/49 [00:05<00:00,  9.50it/s]\n",
            "Test Epoch: [26/100] Acc@1:63.57% Acc@5:97.18%: 100%|██████████| 10/10 [00:01<00:00,  6.46it/s]\n"
          ]
        },
        {
          "name": "stdout",
          "output_type": "stream",
          "text": [
            "\n"
          ]
        },
        {
          "name": "stderr",
          "output_type": "stream",
          "text": [
            "Train Epoch: [27/100] Loss: 6.2727: 100%|██████████| 48/48 [00:23<00:00,  2.04it/s]\n"
          ]
        },
        {
          "name": "stdout",
          "output_type": "stream",
          "text": [
            "Epoch 00007: adjusting learning rate of group 0 to 1.2018e-02.\n"
          ]
        },
        {
          "name": "stderr",
          "output_type": "stream",
          "text": [
            "Feature extracting: 100%|██████████| 49/49 [00:05<00:00,  9.49it/s]\n",
            "Test Epoch: [27/100] Acc@1:63.66% Acc@5:96.97%: 100%|██████████| 10/10 [00:01<00:00,  6.51it/s]\n"
          ]
        },
        {
          "name": "stdout",
          "output_type": "stream",
          "text": [
            "\n"
          ]
        },
        {
          "name": "stderr",
          "output_type": "stream",
          "text": [
            "Train Epoch: [28/100] Loss: 6.2732: 100%|██████████| 48/48 [00:23<00:00,  2.06it/s]\n"
          ]
        },
        {
          "name": "stdout",
          "output_type": "stream",
          "text": [
            "Epoch 00008: adjusting learning rate of group 0 to 1.2024e-02.\n"
          ]
        },
        {
          "name": "stderr",
          "output_type": "stream",
          "text": [
            "Feature extracting: 100%|██████████| 49/49 [00:05<00:00,  9.54it/s]\n",
            "Test Epoch: [28/100] Acc@1:63.80% Acc@5:97.04%: 100%|██████████| 10/10 [00:01<00:00,  6.48it/s]\n"
          ]
        },
        {
          "name": "stdout",
          "output_type": "stream",
          "text": [
            "\n"
          ]
        },
        {
          "name": "stderr",
          "output_type": "stream",
          "text": [
            "Train Epoch: [29/100] Loss: 6.2592: 100%|██████████| 48/48 [00:23<00:00,  2.06it/s]\n"
          ]
        },
        {
          "name": "stdout",
          "output_type": "stream",
          "text": [
            "Epoch 00009: adjusting learning rate of group 0 to 1.2030e-02.\n"
          ]
        },
        {
          "name": "stderr",
          "output_type": "stream",
          "text": [
            "Feature extracting: 100%|██████████| 49/49 [00:05<00:00,  9.50it/s]\n",
            "Test Epoch: [29/100] Acc@1:63.44% Acc@5:96.88%: 100%|██████████| 10/10 [00:01<00:00,  6.41it/s]\n"
          ]
        },
        {
          "name": "stdout",
          "output_type": "stream",
          "text": [
            "\n"
          ]
        },
        {
          "name": "stderr",
          "output_type": "stream",
          "text": [
            "Train Epoch: [30/100] Loss: 6.2629: 100%|██████████| 48/48 [00:23<00:00,  2.08it/s]\n"
          ]
        },
        {
          "name": "stdout",
          "output_type": "stream",
          "text": [
            "Epoch 00010: adjusting learning rate of group 0 to 1.2037e-02.\n"
          ]
        },
        {
          "name": "stderr",
          "output_type": "stream",
          "text": [
            "Feature extracting: 100%|██████████| 49/49 [00:05<00:00,  9.51it/s]\n",
            "Test Epoch: [30/100] Acc@1:64.48% Acc@5:97.18%: 100%|██████████| 10/10 [00:01<00:00,  6.53it/s]\n"
          ]
        },
        {
          "name": "stdout",
          "output_type": "stream",
          "text": [
            "\n"
          ]
        },
        {
          "name": "stderr",
          "output_type": "stream",
          "text": [
            "Train Epoch: [31/100] Loss: 6.2589: 100%|██████████| 48/48 [00:23<00:00,  2.07it/s]\n"
          ]
        },
        {
          "name": "stdout",
          "output_type": "stream",
          "text": [
            "Epoch 00011: adjusting learning rate of group 0 to 1.2045e-02.\n"
          ]
        },
        {
          "name": "stderr",
          "output_type": "stream",
          "text": [
            "Feature extracting: 100%|██████████| 49/49 [00:05<00:00,  9.55it/s]\n",
            "Test Epoch: [31/100] Acc@1:63.91% Acc@5:97.22%: 100%|██████████| 10/10 [00:01<00:00,  6.30it/s]\n"
          ]
        },
        {
          "name": "stdout",
          "output_type": "stream",
          "text": [
            "\n"
          ]
        },
        {
          "name": "stderr",
          "output_type": "stream",
          "text": [
            "Train Epoch: [32/100] Loss: 6.2529: 100%|██████████| 48/48 [00:23<00:00,  2.07it/s]\n"
          ]
        },
        {
          "name": "stdout",
          "output_type": "stream",
          "text": [
            "Epoch 00012: adjusting learning rate of group 0 to 1.2054e-02.\n"
          ]
        },
        {
          "name": "stderr",
          "output_type": "stream",
          "text": [
            "Feature extracting: 100%|██████████| 49/49 [00:05<00:00,  9.47it/s]\n",
            "Test Epoch: [32/100] Acc@1:64.32% Acc@5:97.33%: 100%|██████████| 10/10 [00:01<00:00,  6.34it/s]\n"
          ]
        },
        {
          "name": "stdout",
          "output_type": "stream",
          "text": [
            "\n"
          ]
        },
        {
          "name": "stderr",
          "output_type": "stream",
          "text": [
            "Train Epoch: [33/100] Loss: 6.2550: 100%|██████████| 48/48 [00:23<00:00,  2.07it/s]\n"
          ]
        },
        {
          "name": "stdout",
          "output_type": "stream",
          "text": [
            "Epoch 00013: adjusting learning rate of group 0 to 1.2063e-02.\n"
          ]
        },
        {
          "name": "stderr",
          "output_type": "stream",
          "text": [
            "Feature extracting: 100%|██████████| 49/49 [00:05<00:00,  9.39it/s]\n",
            "Test Epoch: [33/100] Acc@1:64.86% Acc@5:97.39%: 100%|██████████| 10/10 [00:01<00:00,  6.45it/s]\n"
          ]
        },
        {
          "name": "stdout",
          "output_type": "stream",
          "text": [
            "\n"
          ]
        },
        {
          "name": "stderr",
          "output_type": "stream",
          "text": [
            "Train Epoch: [34/100] Loss: 6.2474: 100%|██████████| 48/48 [00:23<00:00,  2.05it/s]\n"
          ]
        },
        {
          "name": "stdout",
          "output_type": "stream",
          "text": [
            "Epoch 00014: adjusting learning rate of group 0 to 1.2073e-02.\n"
          ]
        },
        {
          "name": "stderr",
          "output_type": "stream",
          "text": [
            "Feature extracting: 100%|██████████| 49/49 [00:05<00:00,  9.61it/s]\n",
            "Test Epoch: [34/100] Acc@1:64.88% Acc@5:97.36%: 100%|██████████| 10/10 [00:01<00:00,  6.37it/s]\n"
          ]
        },
        {
          "name": "stdout",
          "output_type": "stream",
          "text": [
            "\n"
          ]
        },
        {
          "name": "stderr",
          "output_type": "stream",
          "text": [
            "Train Epoch: [35/100] Loss: 6.2488: 100%|██████████| 48/48 [00:23<00:00,  2.07it/s]\n"
          ]
        },
        {
          "name": "stdout",
          "output_type": "stream",
          "text": [
            "Epoch 00015: adjusting learning rate of group 0 to 1.2084e-02.\n"
          ]
        },
        {
          "name": "stderr",
          "output_type": "stream",
          "text": [
            "Feature extracting: 100%|██████████| 49/49 [00:05<00:00,  9.55it/s]\n",
            "Test Epoch: [35/100] Acc@1:65.52% Acc@5:97.38%: 100%|██████████| 10/10 [00:01<00:00,  6.37it/s]\n"
          ]
        },
        {
          "name": "stdout",
          "output_type": "stream",
          "text": [
            "\n"
          ]
        },
        {
          "name": "stderr",
          "output_type": "stream",
          "text": [
            "Train Epoch: [36/100] Loss: 6.2462: 100%|██████████| 48/48 [00:23<00:00,  2.06it/s]\n"
          ]
        },
        {
          "name": "stdout",
          "output_type": "stream",
          "text": [
            "Epoch 00016: adjusting learning rate of group 0 to 1.2096e-02.\n"
          ]
        },
        {
          "name": "stderr",
          "output_type": "stream",
          "text": [
            "Feature extracting: 100%|██████████| 49/49 [00:05<00:00,  9.33it/s]\n",
            "Test Epoch: [36/100] Acc@1:65.65% Acc@5:97.60%: 100%|██████████| 10/10 [00:01<00:00,  6.51it/s]\n"
          ]
        },
        {
          "name": "stdout",
          "output_type": "stream",
          "text": [
            "\n"
          ]
        },
        {
          "name": "stderr",
          "output_type": "stream",
          "text": [
            "Train Epoch: [37/100] Loss: 6.2441: 100%|██████████| 48/48 [00:23<00:00,  2.02it/s]\n"
          ]
        },
        {
          "name": "stdout",
          "output_type": "stream",
          "text": [
            "Epoch 00017: adjusting learning rate of group 0 to 1.2108e-02.\n"
          ]
        },
        {
          "name": "stderr",
          "output_type": "stream",
          "text": [
            "Feature extracting: 100%|██████████| 49/49 [00:05<00:00,  9.45it/s]\n",
            "Test Epoch: [37/100] Acc@1:65.76% Acc@5:97.53%: 100%|██████████| 10/10 [00:01<00:00,  6.45it/s]\n"
          ]
        },
        {
          "name": "stdout",
          "output_type": "stream",
          "text": [
            "\n"
          ]
        },
        {
          "name": "stderr",
          "output_type": "stream",
          "text": [
            "Train Epoch: [38/100] Loss: 6.2443: 100%|██████████| 48/48 [00:23<00:00,  2.07it/s]\n"
          ]
        },
        {
          "name": "stdout",
          "output_type": "stream",
          "text": [
            "Epoch 00018: adjusting learning rate of group 0 to 1.2121e-02.\n"
          ]
        },
        {
          "name": "stderr",
          "output_type": "stream",
          "text": [
            "Feature extracting: 100%|██████████| 49/49 [00:05<00:00,  9.41it/s]\n",
            "Test Epoch: [38/100] Acc@1:65.71% Acc@5:97.38%: 100%|██████████| 10/10 [00:01<00:00,  6.42it/s]\n"
          ]
        },
        {
          "name": "stdout",
          "output_type": "stream",
          "text": [
            "\n"
          ]
        },
        {
          "name": "stderr",
          "output_type": "stream",
          "text": [
            "Train Epoch: [39/100] Loss: 6.2444: 100%|██████████| 48/48 [00:23<00:00,  2.04it/s]\n"
          ]
        },
        {
          "name": "stdout",
          "output_type": "stream",
          "text": [
            "Epoch 00019: adjusting learning rate of group 0 to 1.2135e-02.\n"
          ]
        },
        {
          "name": "stderr",
          "output_type": "stream",
          "text": [
            "Feature extracting: 100%|██████████| 49/49 [00:05<00:00,  9.50it/s]\n",
            "Test Epoch: [39/100] Acc@1:65.46% Acc@5:97.37%: 100%|██████████| 10/10 [00:01<00:00,  6.47it/s]\n"
          ]
        },
        {
          "name": "stdout",
          "output_type": "stream",
          "text": [
            "\n"
          ]
        },
        {
          "name": "stderr",
          "output_type": "stream",
          "text": [
            "Train Epoch: [40/100] Loss: 6.2384: 100%|██████████| 48/48 [00:23<00:00,  2.06it/s]\n"
          ]
        },
        {
          "name": "stdout",
          "output_type": "stream",
          "text": [
            "Epoch 00020: adjusting learning rate of group 0 to 1.2150e-02.\n"
          ]
        },
        {
          "name": "stderr",
          "output_type": "stream",
          "text": [
            "Feature extracting: 100%|██████████| 49/49 [00:05<00:00,  9.29it/s]\n",
            "Test Epoch: [40/100] Acc@1:66.36% Acc@5:97.73%: 100%|██████████| 10/10 [00:01<00:00,  6.35it/s]\n"
          ]
        },
        {
          "name": "stdout",
          "output_type": "stream",
          "text": [
            "\n"
          ]
        },
        {
          "name": "stderr",
          "output_type": "stream",
          "text": [
            "Train Epoch: [41/100] Loss: 6.2375: 100%|██████████| 48/48 [00:23<00:00,  2.06it/s]\n"
          ]
        },
        {
          "name": "stdout",
          "output_type": "stream",
          "text": [
            "Epoch 00021: adjusting learning rate of group 0 to 1.2165e-02.\n"
          ]
        },
        {
          "name": "stderr",
          "output_type": "stream",
          "text": [
            "Feature extracting: 100%|██████████| 49/49 [00:05<00:00,  9.46it/s]\n",
            "Test Epoch: [41/100] Acc@1:66.10% Acc@5:97.54%: 100%|██████████| 10/10 [00:01<00:00,  6.42it/s]\n"
          ]
        },
        {
          "name": "stdout",
          "output_type": "stream",
          "text": [
            "\n"
          ]
        },
        {
          "name": "stderr",
          "output_type": "stream",
          "text": [
            "Train Epoch: [42/100] Loss: 6.2389: 100%|██████████| 48/48 [00:23<00:00,  2.06it/s]\n"
          ]
        },
        {
          "name": "stdout",
          "output_type": "stream",
          "text": [
            "Epoch 00022: adjusting learning rate of group 0 to 1.2181e-02.\n"
          ]
        },
        {
          "name": "stderr",
          "output_type": "stream",
          "text": [
            "Feature extracting: 100%|██████████| 49/49 [00:05<00:00,  9.55it/s]\n",
            "Test Epoch: [42/100] Acc@1:65.87% Acc@5:97.36%: 100%|██████████| 10/10 [00:01<00:00,  6.58it/s]\n"
          ]
        },
        {
          "name": "stdout",
          "output_type": "stream",
          "text": [
            "\n"
          ]
        },
        {
          "name": "stderr",
          "output_type": "stream",
          "text": [
            "Train Epoch: [43/100] Loss: 6.2359: 100%|██████████| 48/48 [00:23<00:00,  2.08it/s]\n"
          ]
        },
        {
          "name": "stdout",
          "output_type": "stream",
          "text": [
            "Epoch 00023: adjusting learning rate of group 0 to 1.2198e-02.\n"
          ]
        },
        {
          "name": "stderr",
          "output_type": "stream",
          "text": [
            "Feature extracting: 100%|██████████| 49/49 [00:05<00:00,  9.49it/s]\n",
            "Test Epoch: [43/100] Acc@1:66.32% Acc@5:97.58%: 100%|██████████| 10/10 [00:01<00:00,  6.31it/s]\n"
          ]
        },
        {
          "name": "stdout",
          "output_type": "stream",
          "text": [
            "\n"
          ]
        },
        {
          "name": "stderr",
          "output_type": "stream",
          "text": [
            "Train Epoch: [44/100] Loss: 6.2314: 100%|██████████| 48/48 [00:23<00:00,  2.05it/s]\n"
          ]
        },
        {
          "name": "stdout",
          "output_type": "stream",
          "text": [
            "Epoch 00024: adjusting learning rate of group 0 to 1.2216e-02.\n"
          ]
        },
        {
          "name": "stderr",
          "output_type": "stream",
          "text": [
            "Feature extracting: 100%|██████████| 49/49 [00:05<00:00,  9.52it/s]\n",
            "Test Epoch: [44/100] Acc@1:66.45% Acc@5:97.55%: 100%|██████████| 10/10 [00:01<00:00,  6.54it/s]\n"
          ]
        },
        {
          "name": "stdout",
          "output_type": "stream",
          "text": [
            "\n"
          ]
        },
        {
          "name": "stderr",
          "output_type": "stream",
          "text": [
            "Train Epoch: [45/100] Loss: 6.2314: 100%|██████████| 48/48 [00:23<00:00,  2.05it/s]\n"
          ]
        },
        {
          "name": "stdout",
          "output_type": "stream",
          "text": [
            "Epoch 00025: adjusting learning rate of group 0 to 1.2234e-02.\n"
          ]
        },
        {
          "name": "stderr",
          "output_type": "stream",
          "text": [
            "Feature extracting: 100%|██████████| 49/49 [00:05<00:00,  9.47it/s]\n",
            "Test Epoch: [45/100] Acc@1:66.87% Acc@5:97.82%: 100%|██████████| 10/10 [00:01<00:00,  6.50it/s]\n"
          ]
        },
        {
          "name": "stdout",
          "output_type": "stream",
          "text": [
            "\n"
          ]
        },
        {
          "name": "stderr",
          "output_type": "stream",
          "text": [
            "Train Epoch: [46/100] Loss: 6.2264: 100%|██████████| 48/48 [00:23<00:00,  2.07it/s]\n"
          ]
        },
        {
          "name": "stdout",
          "output_type": "stream",
          "text": [
            "Epoch 00026: adjusting learning rate of group 0 to 1.2253e-02.\n"
          ]
        },
        {
          "name": "stderr",
          "output_type": "stream",
          "text": [
            "Feature extracting: 100%|██████████| 49/49 [00:05<00:00,  9.51it/s]\n",
            "Test Epoch: [46/100] Acc@1:66.93% Acc@5:97.79%: 100%|██████████| 10/10 [00:01<00:00,  6.44it/s]\n"
          ]
        },
        {
          "name": "stdout",
          "output_type": "stream",
          "text": [
            "\n"
          ]
        },
        {
          "name": "stderr",
          "output_type": "stream",
          "text": [
            "Train Epoch: [47/100] Loss: 6.2301: 100%|██████████| 48/48 [00:23<00:00,  2.06it/s]\n"
          ]
        },
        {
          "name": "stdout",
          "output_type": "stream",
          "text": [
            "Epoch 00027: adjusting learning rate of group 0 to 1.2273e-02.\n"
          ]
        },
        {
          "name": "stderr",
          "output_type": "stream",
          "text": [
            "Feature extracting: 100%|██████████| 49/49 [00:05<00:00,  9.48it/s]\n",
            "Test Epoch: [47/100] Acc@1:66.63% Acc@5:97.58%: 100%|██████████| 10/10 [00:01<00:00,  6.30it/s]\n"
          ]
        },
        {
          "name": "stdout",
          "output_type": "stream",
          "text": [
            "\n"
          ]
        },
        {
          "name": "stderr",
          "output_type": "stream",
          "text": [
            "Train Epoch: [48/100] Loss: 6.2259: 100%|██████████| 48/48 [00:23<00:00,  2.06it/s]\n"
          ]
        },
        {
          "name": "stdout",
          "output_type": "stream",
          "text": [
            "Epoch 00028: adjusting learning rate of group 0 to 1.2293e-02.\n"
          ]
        },
        {
          "name": "stderr",
          "output_type": "stream",
          "text": [
            "Feature extracting: 100%|██████████| 49/49 [00:05<00:00,  9.03it/s]\n",
            "Test Epoch: [48/100] Acc@1:67.01% Acc@5:97.68%: 100%|██████████| 10/10 [00:01<00:00,  6.43it/s]\n"
          ]
        },
        {
          "name": "stdout",
          "output_type": "stream",
          "text": [
            "\n"
          ]
        },
        {
          "name": "stderr",
          "output_type": "stream",
          "text": [
            "Train Epoch: [49/100] Loss: 6.2229: 100%|██████████| 48/48 [00:23<00:00,  2.06it/s]\n"
          ]
        },
        {
          "name": "stdout",
          "output_type": "stream",
          "text": [
            "Epoch 00029: adjusting learning rate of group 0 to 1.2315e-02.\n"
          ]
        },
        {
          "name": "stderr",
          "output_type": "stream",
          "text": [
            "Feature extracting: 100%|██████████| 49/49 [00:05<00:00,  9.52it/s]\n",
            "Test Epoch: [49/100] Acc@1:67.10% Acc@5:97.79%: 100%|██████████| 10/10 [00:01<00:00,  6.31it/s]\n"
          ]
        },
        {
          "name": "stdout",
          "output_type": "stream",
          "text": [
            "\n"
          ]
        },
        {
          "name": "stderr",
          "output_type": "stream",
          "text": [
            "Train Epoch: [50/100] Loss: 6.2240: 100%|██████████| 48/48 [00:23<00:00,  2.06it/s]\n"
          ]
        },
        {
          "name": "stdout",
          "output_type": "stream",
          "text": [
            "Epoch 00030: adjusting learning rate of group 0 to 1.2337e-02.\n"
          ]
        },
        {
          "name": "stderr",
          "output_type": "stream",
          "text": [
            "Feature extracting: 100%|██████████| 49/49 [00:05<00:00,  9.47it/s]\n",
            "Test Epoch: [50/100] Acc@1:67.64% Acc@5:97.83%: 100%|██████████| 10/10 [00:01<00:00,  6.45it/s]\n"
          ]
        },
        {
          "name": "stdout",
          "output_type": "stream",
          "text": [
            "\n"
          ]
        },
        {
          "name": "stderr",
          "output_type": "stream",
          "text": [
            "Train Epoch: [51/100] Loss: 6.2216: 100%|██████████| 48/48 [00:23<00:00,  2.03it/s]\n"
          ]
        },
        {
          "name": "stdout",
          "output_type": "stream",
          "text": [
            "Epoch 00031: adjusting learning rate of group 0 to 1.2359e-02.\n"
          ]
        },
        {
          "name": "stderr",
          "output_type": "stream",
          "text": [
            "Feature extracting: 100%|██████████| 49/49 [00:05<00:00,  9.30it/s]\n",
            "Test Epoch: [51/100] Acc@1:67.15% Acc@5:97.57%: 100%|██████████| 10/10 [00:01<00:00,  6.28it/s]\n"
          ]
        },
        {
          "name": "stdout",
          "output_type": "stream",
          "text": [
            "\n"
          ]
        },
        {
          "name": "stderr",
          "output_type": "stream",
          "text": [
            "Train Epoch: [52/100] Loss: 6.2225: 100%|██████████| 48/48 [00:23<00:00,  2.06it/s]\n"
          ]
        },
        {
          "name": "stdout",
          "output_type": "stream",
          "text": [
            "Epoch 00032: adjusting learning rate of group 0 to 1.2383e-02.\n"
          ]
        },
        {
          "name": "stderr",
          "output_type": "stream",
          "text": [
            "Feature extracting: 100%|██████████| 49/49 [00:05<00:00,  9.41it/s]\n",
            "Test Epoch: [52/100] Acc@1:67.55% Acc@5:97.96%: 100%|██████████| 10/10 [00:01<00:00,  6.42it/s]\n"
          ]
        },
        {
          "name": "stdout",
          "output_type": "stream",
          "text": [
            "\n"
          ]
        },
        {
          "name": "stderr",
          "output_type": "stream",
          "text": [
            "Train Epoch: [53/100] Loss: 6.2192: 100%|██████████| 48/48 [00:23<00:00,  2.04it/s]\n"
          ]
        },
        {
          "name": "stdout",
          "output_type": "stream",
          "text": [
            "Epoch 00033: adjusting learning rate of group 0 to 1.2407e-02.\n"
          ]
        },
        {
          "name": "stderr",
          "output_type": "stream",
          "text": [
            "Feature extracting: 100%|██████████| 49/49 [00:05<00:00,  9.51it/s]\n",
            "Test Epoch: [53/100] Acc@1:67.57% Acc@5:97.74%: 100%|██████████| 10/10 [00:01<00:00,  6.48it/s]\n"
          ]
        },
        {
          "name": "stdout",
          "output_type": "stream",
          "text": [
            "\n"
          ]
        },
        {
          "name": "stderr",
          "output_type": "stream",
          "text": [
            "Train Epoch: [54/100] Loss: 6.2218: 100%|██████████| 48/48 [00:23<00:00,  2.07it/s]\n"
          ]
        },
        {
          "name": "stdout",
          "output_type": "stream",
          "text": [
            "Epoch 00034: adjusting learning rate of group 0 to 1.2432e-02.\n"
          ]
        },
        {
          "name": "stderr",
          "output_type": "stream",
          "text": [
            "Feature extracting: 100%|██████████| 49/49 [00:05<00:00,  9.46it/s]\n",
            "Test Epoch: [54/100] Acc@1:67.41% Acc@5:97.83%: 100%|██████████| 10/10 [00:01<00:00,  6.39it/s]\n"
          ]
        },
        {
          "name": "stdout",
          "output_type": "stream",
          "text": [
            "\n"
          ]
        },
        {
          "name": "stderr",
          "output_type": "stream",
          "text": [
            "Train Epoch: [55/100] Loss: 6.2157: 100%|██████████| 48/48 [00:23<00:00,  2.07it/s]\n"
          ]
        },
        {
          "name": "stdout",
          "output_type": "stream",
          "text": [
            "Epoch 00035: adjusting learning rate of group 0 to 1.2458e-02.\n"
          ]
        },
        {
          "name": "stderr",
          "output_type": "stream",
          "text": [
            "Feature extracting: 100%|██████████| 49/49 [00:05<00:00,  9.34it/s]\n",
            "Test Epoch: [55/100] Acc@1:66.84% Acc@5:97.60%: 100%|██████████| 10/10 [00:01<00:00,  6.46it/s]\n"
          ]
        },
        {
          "name": "stdout",
          "output_type": "stream",
          "text": [
            "\n"
          ]
        },
        {
          "name": "stderr",
          "output_type": "stream",
          "text": [
            "Train Epoch: [56/100] Loss: 6.2201: 100%|██████████| 48/48 [00:23<00:00,  2.06it/s]\n"
          ]
        },
        {
          "name": "stdout",
          "output_type": "stream",
          "text": [
            "Epoch 00036: adjusting learning rate of group 0 to 1.2484e-02.\n"
          ]
        },
        {
          "name": "stderr",
          "output_type": "stream",
          "text": [
            "Feature extracting: 100%|██████████| 49/49 [00:05<00:00,  9.58it/s]\n",
            "Test Epoch: [56/100] Acc@1:68.03% Acc@5:97.85%: 100%|██████████| 10/10 [00:01<00:00,  6.61it/s]\n"
          ]
        },
        {
          "name": "stdout",
          "output_type": "stream",
          "text": [
            "\n"
          ]
        },
        {
          "name": "stderr",
          "output_type": "stream",
          "text": [
            "Train Epoch: [57/100] Loss: 6.2181: 100%|██████████| 48/48 [00:23<00:00,  2.07it/s]\n"
          ]
        },
        {
          "name": "stdout",
          "output_type": "stream",
          "text": [
            "Epoch 00037: adjusting learning rate of group 0 to 1.2511e-02.\n"
          ]
        },
        {
          "name": "stderr",
          "output_type": "stream",
          "text": [
            "Feature extracting: 100%|██████████| 49/49 [00:05<00:00,  9.48it/s]\n",
            "Test Epoch: [57/100] Acc@1:67.75% Acc@5:97.75%: 100%|██████████| 10/10 [00:01<00:00,  6.28it/s]\n"
          ]
        },
        {
          "name": "stdout",
          "output_type": "stream",
          "text": [
            "\n"
          ]
        },
        {
          "name": "stderr",
          "output_type": "stream",
          "text": [
            "Train Epoch: [58/100] Loss: 6.2124: 100%|██████████| 48/48 [00:23<00:00,  2.06it/s]\n"
          ]
        },
        {
          "name": "stdout",
          "output_type": "stream",
          "text": [
            "Epoch 00038: adjusting learning rate of group 0 to 1.2539e-02.\n"
          ]
        },
        {
          "name": "stderr",
          "output_type": "stream",
          "text": [
            "Feature extracting: 100%|██████████| 49/49 [00:05<00:00,  9.28it/s]\n",
            "Test Epoch: [58/100] Acc@1:67.71% Acc@5:97.92%: 100%|██████████| 10/10 [00:01<00:00,  6.40it/s]\n"
          ]
        },
        {
          "name": "stdout",
          "output_type": "stream",
          "text": [
            "\n"
          ]
        },
        {
          "name": "stderr",
          "output_type": "stream",
          "text": [
            "Train Epoch: [59/100] Loss: 6.2121: 100%|██████████| 48/48 [00:23<00:00,  2.08it/s]\n"
          ]
        },
        {
          "name": "stdout",
          "output_type": "stream",
          "text": [
            "Epoch 00039: adjusting learning rate of group 0 to 1.2568e-02.\n"
          ]
        },
        {
          "name": "stderr",
          "output_type": "stream",
          "text": [
            "Feature extracting: 100%|██████████| 49/49 [00:05<00:00,  9.28it/s]\n",
            "Test Epoch: [59/100] Acc@1:67.35% Acc@5:97.90%: 100%|██████████| 10/10 [00:01<00:00,  6.40it/s]\n"
          ]
        },
        {
          "name": "stdout",
          "output_type": "stream",
          "text": [
            "\n"
          ]
        },
        {
          "name": "stderr",
          "output_type": "stream",
          "text": [
            "Train Epoch: [60/100] Loss: 6.2136: 100%|██████████| 48/48 [00:23<00:00,  2.05it/s]\n"
          ]
        },
        {
          "name": "stdout",
          "output_type": "stream",
          "text": [
            "Epoch 00040: adjusting learning rate of group 0 to 1.2597e-02.\n"
          ]
        },
        {
          "name": "stderr",
          "output_type": "stream",
          "text": [
            "Feature extracting: 100%|██████████| 49/49 [00:05<00:00,  9.46it/s]\n",
            "Test Epoch: [60/100] Acc@1:67.52% Acc@5:97.65%: 100%|██████████| 10/10 [00:01<00:00,  6.25it/s]\n"
          ]
        },
        {
          "name": "stdout",
          "output_type": "stream",
          "text": [
            "\n"
          ]
        },
        {
          "name": "stderr",
          "output_type": "stream",
          "text": [
            "Train Epoch: [61/100] Loss: 6.2143: 100%|██████████| 48/48 [00:23<00:00,  2.07it/s]\n"
          ]
        },
        {
          "name": "stdout",
          "output_type": "stream",
          "text": [
            "Epoch 00041: adjusting learning rate of group 0 to 1.2627e-02.\n"
          ]
        },
        {
          "name": "stderr",
          "output_type": "stream",
          "text": [
            "Feature extracting: 100%|██████████| 49/49 [00:05<00:00,  9.49it/s]\n",
            "Test Epoch: [61/100] Acc@1:68.15% Acc@5:97.99%: 100%|██████████| 10/10 [00:01<00:00,  6.45it/s]\n"
          ]
        },
        {
          "name": "stdout",
          "output_type": "stream",
          "text": [
            "\n"
          ]
        },
        {
          "name": "stderr",
          "output_type": "stream",
          "text": [
            "Train Epoch: [62/100] Loss: 6.2111: 100%|██████████| 48/48 [00:23<00:00,  2.07it/s]\n"
          ]
        },
        {
          "name": "stdout",
          "output_type": "stream",
          "text": [
            "Epoch 00042: adjusting learning rate of group 0 to 1.2658e-02.\n"
          ]
        },
        {
          "name": "stderr",
          "output_type": "stream",
          "text": [
            "Feature extracting: 100%|██████████| 49/49 [00:05<00:00,  9.58it/s]\n",
            "Test Epoch: [62/100] Acc@1:67.84% Acc@5:97.70%: 100%|██████████| 10/10 [00:01<00:00,  6.50it/s]\n"
          ]
        },
        {
          "name": "stdout",
          "output_type": "stream",
          "text": [
            "\n"
          ]
        },
        {
          "name": "stderr",
          "output_type": "stream",
          "text": [
            "Train Epoch: [63/100] Loss: 6.2085: 100%|██████████| 48/48 [00:23<00:00,  2.06it/s]\n"
          ]
        },
        {
          "name": "stdout",
          "output_type": "stream",
          "text": [
            "Epoch 00043: adjusting learning rate of group 0 to 1.2689e-02.\n"
          ]
        },
        {
          "name": "stderr",
          "output_type": "stream",
          "text": [
            "Feature extracting: 100%|██████████| 49/49 [00:05<00:00,  9.53it/s]\n",
            "Test Epoch: [63/100] Acc@1:67.82% Acc@5:97.86%: 100%|██████████| 10/10 [00:01<00:00,  6.43it/s]\n"
          ]
        },
        {
          "name": "stdout",
          "output_type": "stream",
          "text": [
            "\n"
          ]
        },
        {
          "name": "stderr",
          "output_type": "stream",
          "text": [
            "Train Epoch: [64/100] Loss: 6.2100: 100%|██████████| 48/48 [00:23<00:00,  2.05it/s]\n"
          ]
        },
        {
          "name": "stdout",
          "output_type": "stream",
          "text": [
            "Epoch 00044: adjusting learning rate of group 0 to 1.2721e-02.\n"
          ]
        },
        {
          "name": "stderr",
          "output_type": "stream",
          "text": [
            "Feature extracting: 100%|██████████| 49/49 [00:05<00:00,  9.51it/s]\n",
            "Test Epoch: [64/100] Acc@1:68.18% Acc@5:97.81%: 100%|██████████| 10/10 [00:01<00:00,  6.37it/s]\n"
          ]
        },
        {
          "name": "stdout",
          "output_type": "stream",
          "text": [
            "\n"
          ]
        },
        {
          "name": "stderr",
          "output_type": "stream",
          "text": [
            "Train Epoch: [65/100] Loss: 6.2121: 100%|██████████| 48/48 [00:23<00:00,  2.05it/s]\n"
          ]
        },
        {
          "name": "stdout",
          "output_type": "stream",
          "text": [
            "Epoch 00045: adjusting learning rate of group 0 to 1.2754e-02.\n"
          ]
        },
        {
          "name": "stderr",
          "output_type": "stream",
          "text": [
            "Feature extracting: 100%|██████████| 49/49 [00:05<00:00,  9.27it/s]\n",
            "Test Epoch: [65/100] Acc@1:68.16% Acc@5:97.85%: 100%|██████████| 10/10 [00:01<00:00,  6.51it/s]\n"
          ]
        },
        {
          "name": "stdout",
          "output_type": "stream",
          "text": [
            "\n"
          ]
        },
        {
          "name": "stderr",
          "output_type": "stream",
          "text": [
            "Train Epoch: [66/100] Loss: 6.2069: 100%|██████████| 48/48 [00:23<00:00,  2.04it/s]\n"
          ]
        },
        {
          "name": "stdout",
          "output_type": "stream",
          "text": [
            "Epoch 00046: adjusting learning rate of group 0 to 1.2788e-02.\n"
          ]
        },
        {
          "name": "stderr",
          "output_type": "stream",
          "text": [
            "Feature extracting: 100%|██████████| 49/49 [00:05<00:00,  9.41it/s]\n",
            "Test Epoch: [66/100] Acc@1:68.22% Acc@5:97.99%: 100%|██████████| 10/10 [00:01<00:00,  6.31it/s]\n"
          ]
        },
        {
          "name": "stdout",
          "output_type": "stream",
          "text": [
            "\n"
          ]
        },
        {
          "name": "stderr",
          "output_type": "stream",
          "text": [
            "Train Epoch: [67/100] Loss: 6.2103: 100%|██████████| 48/48 [00:23<00:00,  2.07it/s]\n"
          ]
        },
        {
          "name": "stdout",
          "output_type": "stream",
          "text": [
            "Epoch 00047: adjusting learning rate of group 0 to 1.2822e-02.\n"
          ]
        },
        {
          "name": "stderr",
          "output_type": "stream",
          "text": [
            "Feature extracting: 100%|██████████| 49/49 [00:05<00:00,  9.48it/s]\n",
            "Test Epoch: [67/100] Acc@1:68.43% Acc@5:97.97%: 100%|██████████| 10/10 [00:01<00:00,  6.39it/s]\n"
          ]
        },
        {
          "name": "stdout",
          "output_type": "stream",
          "text": [
            "\n"
          ]
        },
        {
          "name": "stderr",
          "output_type": "stream",
          "text": [
            "Train Epoch: [68/100] Loss: 6.2057: 100%|██████████| 48/48 [00:23<00:00,  2.06it/s]\n"
          ]
        },
        {
          "name": "stdout",
          "output_type": "stream",
          "text": [
            "Epoch 00048: adjusting learning rate of group 0 to 1.2858e-02.\n"
          ]
        },
        {
          "name": "stderr",
          "output_type": "stream",
          "text": [
            "Feature extracting: 100%|██████████| 49/49 [00:05<00:00,  9.59it/s]\n",
            "Test Epoch: [68/100] Acc@1:67.80% Acc@5:97.91%: 100%|██████████| 10/10 [00:01<00:00,  6.41it/s]\n"
          ]
        },
        {
          "name": "stdout",
          "output_type": "stream",
          "text": [
            "\n"
          ]
        },
        {
          "name": "stderr",
          "output_type": "stream",
          "text": [
            "Train Epoch: [69/100] Loss: 6.2114: 100%|██████████| 48/48 [00:23<00:00,  2.06it/s]\n"
          ]
        },
        {
          "name": "stdout",
          "output_type": "stream",
          "text": [
            "Epoch 00049: adjusting learning rate of group 0 to 1.2893e-02.\n"
          ]
        },
        {
          "name": "stderr",
          "output_type": "stream",
          "text": [
            "Feature extracting: 100%|██████████| 49/49 [00:05<00:00,  9.42it/s]\n",
            "Test Epoch: [69/100] Acc@1:68.11% Acc@5:97.88%: 100%|██████████| 10/10 [00:01<00:00,  6.37it/s]\n"
          ]
        },
        {
          "name": "stdout",
          "output_type": "stream",
          "text": [
            "\n"
          ]
        },
        {
          "name": "stderr",
          "output_type": "stream",
          "text": [
            "Train Epoch: [70/100] Loss: 6.2065: 100%|██████████| 48/48 [00:23<00:00,  2.06it/s]\n"
          ]
        },
        {
          "name": "stdout",
          "output_type": "stream",
          "text": [
            "Epoch 00050: adjusting learning rate of group 0 to 1.2930e-02.\n"
          ]
        },
        {
          "name": "stderr",
          "output_type": "stream",
          "text": [
            "Feature extracting: 100%|██████████| 49/49 [00:05<00:00,  9.47it/s]\n",
            "Test Epoch: [70/100] Acc@1:68.28% Acc@5:97.96%: 100%|██████████| 10/10 [00:01<00:00,  6.36it/s]\n"
          ]
        },
        {
          "name": "stdout",
          "output_type": "stream",
          "text": [
            "\n"
          ]
        },
        {
          "name": "stderr",
          "output_type": "stream",
          "text": [
            "Train Epoch: [71/100] Loss: 6.2089: 100%|██████████| 48/48 [00:23<00:00,  2.07it/s]\n"
          ]
        },
        {
          "name": "stdout",
          "output_type": "stream",
          "text": [
            "Epoch 00051: adjusting learning rate of group 0 to 1.2967e-02.\n"
          ]
        },
        {
          "name": "stderr",
          "output_type": "stream",
          "text": [
            "Feature extracting: 100%|██████████| 49/49 [00:05<00:00,  9.49it/s]\n",
            "Test Epoch: [71/100] Acc@1:68.26% Acc@5:97.88%: 100%|██████████| 10/10 [00:01<00:00,  6.46it/s]\n"
          ]
        },
        {
          "name": "stdout",
          "output_type": "stream",
          "text": [
            "\n"
          ]
        },
        {
          "name": "stderr",
          "output_type": "stream",
          "text": [
            "Train Epoch: [72/100] Loss: 6.2087: 100%|██████████| 48/48 [00:23<00:00,  2.06it/s]\n"
          ]
        },
        {
          "name": "stdout",
          "output_type": "stream",
          "text": [
            "Epoch 00052: adjusting learning rate of group 0 to 1.3005e-02.\n"
          ]
        },
        {
          "name": "stderr",
          "output_type": "stream",
          "text": [
            "Feature extracting: 100%|██████████| 49/49 [00:05<00:00,  9.51it/s]\n",
            "Test Epoch: [72/100] Acc@1:68.21% Acc@5:97.93%: 100%|██████████| 10/10 [00:01<00:00,  6.40it/s]\n"
          ]
        },
        {
          "name": "stdout",
          "output_type": "stream",
          "text": [
            "\n"
          ]
        },
        {
          "name": "stderr",
          "output_type": "stream",
          "text": [
            "Train Epoch: [73/100] Loss: 6.2078: 100%|██████████| 48/48 [00:23<00:00,  2.07it/s]\n"
          ]
        },
        {
          "name": "stdout",
          "output_type": "stream",
          "text": [
            "Epoch 00053: adjusting learning rate of group 0 to 1.3044e-02.\n"
          ]
        },
        {
          "name": "stderr",
          "output_type": "stream",
          "text": [
            "Feature extracting: 100%|██████████| 49/49 [00:05<00:00,  9.35it/s]\n",
            "Test Epoch: [73/100] Acc@1:68.23% Acc@5:97.91%: 100%|██████████| 10/10 [00:01<00:00,  6.45it/s]\n"
          ]
        },
        {
          "name": "stdout",
          "output_type": "stream",
          "text": [
            "\n"
          ]
        },
        {
          "name": "stderr",
          "output_type": "stream",
          "text": [
            "Train Epoch: [74/100] Loss: 6.2056: 100%|██████████| 48/48 [00:23<00:00,  2.07it/s]\n"
          ]
        },
        {
          "name": "stdout",
          "output_type": "stream",
          "text": [
            "Epoch 00054: adjusting learning rate of group 0 to 1.3083e-02.\n"
          ]
        },
        {
          "name": "stderr",
          "output_type": "stream",
          "text": [
            "Feature extracting: 100%|██████████| 49/49 [00:05<00:00,  9.49it/s]\n",
            "Test Epoch: [74/100] Acc@1:68.06% Acc@5:97.68%: 100%|██████████| 10/10 [00:01<00:00,  6.43it/s]\n"
          ]
        },
        {
          "name": "stdout",
          "output_type": "stream",
          "text": [
            "\n"
          ]
        },
        {
          "name": "stderr",
          "output_type": "stream",
          "text": [
            "Train Epoch: [75/100] Loss: 6.2029: 100%|██████████| 48/48 [00:23<00:00,  2.05it/s]\n"
          ]
        },
        {
          "name": "stdout",
          "output_type": "stream",
          "text": [
            "Epoch 00055: adjusting learning rate of group 0 to 1.3123e-02.\n"
          ]
        },
        {
          "name": "stderr",
          "output_type": "stream",
          "text": [
            "Feature extracting: 100%|██████████| 49/49 [00:05<00:00,  9.39it/s]\n",
            "Test Epoch: [75/100] Acc@1:69.10% Acc@5:97.90%: 100%|██████████| 10/10 [00:01<00:00,  6.45it/s]\n"
          ]
        },
        {
          "name": "stdout",
          "output_type": "stream",
          "text": [
            "\n"
          ]
        },
        {
          "name": "stderr",
          "output_type": "stream",
          "text": [
            "Train Epoch: [76/100] Loss: 6.2015: 100%|██████████| 48/48 [00:23<00:00,  2.07it/s]\n"
          ]
        },
        {
          "name": "stdout",
          "output_type": "stream",
          "text": [
            "Epoch 00056: adjusting learning rate of group 0 to 1.3164e-02.\n"
          ]
        },
        {
          "name": "stderr",
          "output_type": "stream",
          "text": [
            "Feature extracting: 100%|██████████| 49/49 [00:05<00:00,  9.51it/s]\n",
            "Test Epoch: [76/100] Acc@1:68.50% Acc@5:97.94%: 100%|██████████| 10/10 [00:01<00:00,  6.42it/s]\n"
          ]
        },
        {
          "name": "stdout",
          "output_type": "stream",
          "text": [
            "\n"
          ]
        },
        {
          "name": "stderr",
          "output_type": "stream",
          "text": [
            "Train Epoch: [77/100] Loss: 6.2030: 100%|██████████| 48/48 [00:23<00:00,  2.06it/s]\n"
          ]
        },
        {
          "name": "stdout",
          "output_type": "stream",
          "text": [
            "Epoch 00057: adjusting learning rate of group 0 to 1.3206e-02.\n"
          ]
        },
        {
          "name": "stderr",
          "output_type": "stream",
          "text": [
            "Feature extracting: 100%|██████████| 49/49 [00:05<00:00,  9.44it/s]\n",
            "Test Epoch: [77/100] Acc@1:68.45% Acc@5:97.87%: 100%|██████████| 10/10 [00:01<00:00,  6.15it/s]\n"
          ]
        },
        {
          "name": "stdout",
          "output_type": "stream",
          "text": [
            "\n"
          ]
        },
        {
          "name": "stderr",
          "output_type": "stream",
          "text": [
            "Train Epoch: [78/100] Loss: 6.2038: 100%|██████████| 48/48 [00:23<00:00,  2.06it/s]\n"
          ]
        },
        {
          "name": "stdout",
          "output_type": "stream",
          "text": [
            "Epoch 00058: adjusting learning rate of group 0 to 1.3248e-02.\n"
          ]
        },
        {
          "name": "stderr",
          "output_type": "stream",
          "text": [
            "Feature extracting: 100%|██████████| 49/49 [00:05<00:00,  9.48it/s]\n",
            "Test Epoch: [78/100] Acc@1:69.19% Acc@5:98.08%: 100%|██████████| 10/10 [00:01<00:00,  6.29it/s]\n"
          ]
        },
        {
          "name": "stdout",
          "output_type": "stream",
          "text": [
            "\n"
          ]
        },
        {
          "name": "stderr",
          "output_type": "stream",
          "text": [
            "Train Epoch: [79/100] Loss: 6.1990: 100%|██████████| 48/48 [00:23<00:00,  2.05it/s]\n"
          ]
        },
        {
          "name": "stdout",
          "output_type": "stream",
          "text": [
            "Epoch 00059: adjusting learning rate of group 0 to 1.3291e-02.\n"
          ]
        },
        {
          "name": "stderr",
          "output_type": "stream",
          "text": [
            "Feature extracting: 100%|██████████| 49/49 [00:05<00:00,  9.21it/s]\n",
            "Test Epoch: [79/100] Acc@1:68.25% Acc@5:97.89%: 100%|██████████| 10/10 [00:01<00:00,  6.51it/s]\n"
          ]
        },
        {
          "name": "stdout",
          "output_type": "stream",
          "text": [
            "\n"
          ]
        },
        {
          "name": "stderr",
          "output_type": "stream",
          "text": [
            "Train Epoch: [80/100] Loss: 6.2014: 100%|██████████| 48/48 [00:23<00:00,  2.06it/s]\n"
          ]
        },
        {
          "name": "stdout",
          "output_type": "stream",
          "text": [
            "Epoch 00060: adjusting learning rate of group 0 to 1.3334e-02.\n"
          ]
        },
        {
          "name": "stderr",
          "output_type": "stream",
          "text": [
            "Feature extracting: 100%|██████████| 49/49 [00:05<00:00,  9.52it/s]\n",
            "Test Epoch: [80/100] Acc@1:68.52% Acc@5:97.83%: 100%|██████████| 10/10 [00:01<00:00,  6.46it/s]\n"
          ]
        },
        {
          "name": "stdout",
          "output_type": "stream",
          "text": [
            "\n"
          ]
        },
        {
          "name": "stderr",
          "output_type": "stream",
          "text": [
            "Train Epoch: [81/100] Loss: 6.1974: 100%|██████████| 48/48 [00:23<00:00,  2.06it/s]\n"
          ]
        },
        {
          "name": "stdout",
          "output_type": "stream",
          "text": [
            "Epoch 00061: adjusting learning rate of group 0 to 1.3379e-02.\n"
          ]
        },
        {
          "name": "stderr",
          "output_type": "stream",
          "text": [
            "Feature extracting: 100%|██████████| 49/49 [00:05<00:00,  9.56it/s]\n",
            "Test Epoch: [81/100] Acc@1:69.01% Acc@5:97.97%: 100%|██████████| 10/10 [00:01<00:00,  6.42it/s]\n"
          ]
        },
        {
          "name": "stdout",
          "output_type": "stream",
          "text": [
            "\n"
          ]
        },
        {
          "name": "stderr",
          "output_type": "stream",
          "text": [
            "Train Epoch: [82/100] Loss: 6.2025: 100%|██████████| 48/48 [00:23<00:00,  2.05it/s]\n"
          ]
        },
        {
          "name": "stdout",
          "output_type": "stream",
          "text": [
            "Epoch 00062: adjusting learning rate of group 0 to 1.3424e-02.\n"
          ]
        },
        {
          "name": "stderr",
          "output_type": "stream",
          "text": [
            "Feature extracting: 100%|██████████| 49/49 [00:05<00:00,  9.60it/s]\n",
            "Test Epoch: [82/100] Acc@1:68.10% Acc@5:97.80%: 100%|██████████| 10/10 [00:01<00:00,  6.38it/s]\n"
          ]
        },
        {
          "name": "stdout",
          "output_type": "stream",
          "text": [
            "\n"
          ]
        },
        {
          "name": "stderr",
          "output_type": "stream",
          "text": [
            "Train Epoch: [83/100] Loss: 6.2024: 100%|██████████| 48/48 [00:23<00:00,  2.04it/s]\n"
          ]
        },
        {
          "name": "stdout",
          "output_type": "stream",
          "text": [
            "Epoch 00063: adjusting learning rate of group 0 to 1.3469e-02.\n"
          ]
        },
        {
          "name": "stderr",
          "output_type": "stream",
          "text": [
            "Feature extracting: 100%|██████████| 49/49 [00:05<00:00,  9.51it/s]\n",
            "Test Epoch: [83/100] Acc@1:68.70% Acc@5:97.84%: 100%|██████████| 10/10 [00:01<00:00,  6.37it/s]\n"
          ]
        },
        {
          "name": "stdout",
          "output_type": "stream",
          "text": [
            "\n"
          ]
        },
        {
          "name": "stderr",
          "output_type": "stream",
          "text": [
            "Train Epoch: [84/100] Loss: 6.1986: 100%|██████████| 48/48 [00:23<00:00,  2.03it/s]\n"
          ]
        },
        {
          "name": "stdout",
          "output_type": "stream",
          "text": [
            "Epoch 00064: adjusting learning rate of group 0 to 1.3516e-02.\n"
          ]
        },
        {
          "name": "stderr",
          "output_type": "stream",
          "text": [
            "Feature extracting: 100%|██████████| 49/49 [00:05<00:00,  9.35it/s]\n",
            "Test Epoch: [84/100] Acc@1:69.24% Acc@5:98.12%: 100%|██████████| 10/10 [00:01<00:00,  6.38it/s]\n"
          ]
        },
        {
          "name": "stdout",
          "output_type": "stream",
          "text": [
            "\n"
          ]
        },
        {
          "name": "stderr",
          "output_type": "stream",
          "text": [
            "Train Epoch: [85/100] Loss: 6.2004: 100%|██████████| 48/48 [00:23<00:00,  2.07it/s]\n"
          ]
        },
        {
          "name": "stdout",
          "output_type": "stream",
          "text": [
            "Epoch 00065: adjusting learning rate of group 0 to 1.3563e-02.\n"
          ]
        },
        {
          "name": "stderr",
          "output_type": "stream",
          "text": [
            "Feature extracting: 100%|██████████| 49/49 [00:05<00:00,  9.33it/s]\n",
            "Test Epoch: [85/100] Acc@1:69.04% Acc@5:97.88%: 100%|██████████| 10/10 [00:01<00:00,  6.37it/s]\n"
          ]
        },
        {
          "name": "stdout",
          "output_type": "stream",
          "text": [
            "\n"
          ]
        },
        {
          "name": "stderr",
          "output_type": "stream",
          "text": [
            "Train Epoch: [86/100] Loss: 6.1957: 100%|██████████| 48/48 [00:23<00:00,  2.07it/s]\n"
          ]
        },
        {
          "name": "stdout",
          "output_type": "stream",
          "text": [
            "Epoch 00066: adjusting learning rate of group 0 to 1.3610e-02.\n"
          ]
        },
        {
          "name": "stderr",
          "output_type": "stream",
          "text": [
            "Feature extracting: 100%|██████████| 49/49 [00:05<00:00,  9.52it/s]\n",
            "Test Epoch: [86/100] Acc@1:69.42% Acc@5:97.86%: 100%|██████████| 10/10 [00:01<00:00,  6.34it/s]\n"
          ]
        },
        {
          "name": "stdout",
          "output_type": "stream",
          "text": [
            "\n"
          ]
        },
        {
          "name": "stderr",
          "output_type": "stream",
          "text": [
            "Train Epoch: [87/100] Loss: 6.2025: 100%|██████████| 48/48 [00:23<00:00,  2.07it/s]\n"
          ]
        },
        {
          "name": "stdout",
          "output_type": "stream",
          "text": [
            "Epoch 00067: adjusting learning rate of group 0 to 1.3659e-02.\n"
          ]
        },
        {
          "name": "stderr",
          "output_type": "stream",
          "text": [
            "Feature extracting: 100%|██████████| 49/49 [00:05<00:00,  9.56it/s]\n",
            "Test Epoch: [87/100] Acc@1:68.50% Acc@5:97.83%: 100%|██████████| 10/10 [00:01<00:00,  6.56it/s]\n"
          ]
        },
        {
          "name": "stdout",
          "output_type": "stream",
          "text": [
            "\n"
          ]
        },
        {
          "name": "stderr",
          "output_type": "stream",
          "text": [
            "Train Epoch: [88/100] Loss: 6.1971: 100%|██████████| 48/48 [00:23<00:00,  2.07it/s]\n"
          ]
        },
        {
          "name": "stdout",
          "output_type": "stream",
          "text": [
            "Epoch 00068: adjusting learning rate of group 0 to 1.3708e-02.\n"
          ]
        },
        {
          "name": "stderr",
          "output_type": "stream",
          "text": [
            "Feature extracting: 100%|██████████| 49/49 [00:05<00:00,  9.53it/s]\n",
            "Test Epoch: [88/100] Acc@1:69.46% Acc@5:98.00%: 100%|██████████| 10/10 [00:01<00:00,  6.50it/s]\n"
          ]
        },
        {
          "name": "stdout",
          "output_type": "stream",
          "text": [
            "\n"
          ]
        },
        {
          "name": "stderr",
          "output_type": "stream",
          "text": [
            "Train Epoch: [89/100] Loss: 6.1972: 100%|██████████| 48/48 [00:23<00:00,  2.07it/s]\n"
          ]
        },
        {
          "name": "stdout",
          "output_type": "stream",
          "text": [
            "Epoch 00069: adjusting learning rate of group 0 to 1.3758e-02.\n"
          ]
        },
        {
          "name": "stderr",
          "output_type": "stream",
          "text": [
            "Feature extracting: 100%|██████████| 49/49 [00:05<00:00,  9.43it/s]\n",
            "Test Epoch: [89/100] Acc@1:69.87% Acc@5:98.04%: 100%|██████████| 10/10 [00:01<00:00,  6.48it/s]\n"
          ]
        },
        {
          "name": "stdout",
          "output_type": "stream",
          "text": [
            "\n"
          ]
        },
        {
          "name": "stderr",
          "output_type": "stream",
          "text": [
            "Train Epoch: [90/100] Loss: 6.1925: 100%|██████████| 48/48 [00:23<00:00,  2.06it/s]\n"
          ]
        },
        {
          "name": "stdout",
          "output_type": "stream",
          "text": [
            "Epoch 00070: adjusting learning rate of group 0 to 1.3808e-02.\n"
          ]
        },
        {
          "name": "stderr",
          "output_type": "stream",
          "text": [
            "Feature extracting: 100%|██████████| 49/49 [00:05<00:00,  9.41it/s]\n",
            "Test Epoch: [90/100] Acc@1:68.71% Acc@5:98.06%: 100%|██████████| 10/10 [00:01<00:00,  6.54it/s]\n"
          ]
        },
        {
          "name": "stdout",
          "output_type": "stream",
          "text": [
            "\n"
          ]
        },
        {
          "name": "stderr",
          "output_type": "stream",
          "text": [
            "Train Epoch: [91/100] Loss: 6.2013: 100%|██████████| 48/48 [00:23<00:00,  2.05it/s]\n"
          ]
        },
        {
          "name": "stdout",
          "output_type": "stream",
          "text": [
            "Epoch 00071: adjusting learning rate of group 0 to 1.3859e-02.\n"
          ]
        },
        {
          "name": "stderr",
          "output_type": "stream",
          "text": [
            "Feature extracting: 100%|██████████| 49/49 [00:05<00:00,  9.41it/s]\n",
            "Test Epoch: [91/100] Acc@1:69.19% Acc@5:97.85%: 100%|██████████| 10/10 [00:01<00:00,  6.50it/s]\n"
          ]
        },
        {
          "name": "stdout",
          "output_type": "stream",
          "text": [
            "\n"
          ]
        },
        {
          "name": "stderr",
          "output_type": "stream",
          "text": [
            "Train Epoch: [92/100] Loss: 6.1968: 100%|██████████| 48/48 [00:23<00:00,  2.05it/s]\n"
          ]
        },
        {
          "name": "stdout",
          "output_type": "stream",
          "text": [
            "Epoch 00072: adjusting learning rate of group 0 to 1.3911e-02.\n"
          ]
        },
        {
          "name": "stderr",
          "output_type": "stream",
          "text": [
            "Feature extracting: 100%|██████████| 49/49 [00:05<00:00,  9.22it/s]\n",
            "Test Epoch: [92/100] Acc@1:68.58% Acc@5:97.84%: 100%|██████████| 10/10 [00:01<00:00,  6.51it/s]\n"
          ]
        },
        {
          "name": "stdout",
          "output_type": "stream",
          "text": [
            "\n"
          ]
        },
        {
          "name": "stderr",
          "output_type": "stream",
          "text": [
            "Train Epoch: [93/100] Loss: 6.1973: 100%|██████████| 48/48 [00:23<00:00,  2.07it/s]\n"
          ]
        },
        {
          "name": "stdout",
          "output_type": "stream",
          "text": [
            "Epoch 00073: adjusting learning rate of group 0 to 1.3964e-02.\n"
          ]
        },
        {
          "name": "stderr",
          "output_type": "stream",
          "text": [
            "Feature extracting: 100%|██████████| 49/49 [00:05<00:00,  8.96it/s]\n",
            "Test Epoch: [93/100] Acc@1:68.89% Acc@5:97.90%: 100%|██████████| 10/10 [00:01<00:00,  6.44it/s]\n"
          ]
        },
        {
          "name": "stdout",
          "output_type": "stream",
          "text": [
            "\n"
          ]
        },
        {
          "name": "stderr",
          "output_type": "stream",
          "text": [
            "Train Epoch: [94/100] Loss: 6.1958: 100%|██████████| 48/48 [00:23<00:00,  2.07it/s]\n"
          ]
        },
        {
          "name": "stdout",
          "output_type": "stream",
          "text": [
            "Epoch 00074: adjusting learning rate of group 0 to 1.4017e-02.\n"
          ]
        },
        {
          "name": "stderr",
          "output_type": "stream",
          "text": [
            "Feature extracting: 100%|██████████| 49/49 [00:05<00:00,  9.50it/s]\n",
            "Test Epoch: [94/100] Acc@1:68.54% Acc@5:97.87%: 100%|██████████| 10/10 [00:01<00:00,  6.49it/s]\n"
          ]
        },
        {
          "name": "stdout",
          "output_type": "stream",
          "text": [
            "\n"
          ]
        },
        {
          "name": "stderr",
          "output_type": "stream",
          "text": [
            "Train Epoch: [95/100] Loss: 6.1955: 100%|██████████| 48/48 [00:23<00:00,  2.07it/s]\n"
          ]
        },
        {
          "name": "stdout",
          "output_type": "stream",
          "text": [
            "Epoch 00075: adjusting learning rate of group 0 to 1.4071e-02.\n"
          ]
        },
        {
          "name": "stderr",
          "output_type": "stream",
          "text": [
            "Feature extracting: 100%|██████████| 49/49 [00:05<00:00,  9.52it/s]\n",
            "Test Epoch: [95/100] Acc@1:68.91% Acc@5:97.84%: 100%|██████████| 10/10 [00:01<00:00,  6.45it/s]\n"
          ]
        },
        {
          "name": "stdout",
          "output_type": "stream",
          "text": [
            "\n"
          ]
        },
        {
          "name": "stderr",
          "output_type": "stream",
          "text": [
            "Train Epoch: [96/100] Loss: 6.1980: 100%|██████████| 48/48 [00:23<00:00,  2.06it/s]\n"
          ]
        },
        {
          "name": "stdout",
          "output_type": "stream",
          "text": [
            "Epoch 00076: adjusting learning rate of group 0 to 1.4125e-02.\n"
          ]
        },
        {
          "name": "stderr",
          "output_type": "stream",
          "text": [
            "Feature extracting: 100%|██████████| 49/49 [00:05<00:00,  9.52it/s]\n",
            "Test Epoch: [96/100] Acc@1:69.31% Acc@5:97.96%: 100%|██████████| 10/10 [00:01<00:00,  6.39it/s]\n"
          ]
        },
        {
          "name": "stdout",
          "output_type": "stream",
          "text": [
            "\n"
          ]
        },
        {
          "name": "stderr",
          "output_type": "stream",
          "text": [
            "Train Epoch: [97/100] Loss: 6.1961: 100%|██████████| 48/48 [00:23<00:00,  2.05it/s]\n"
          ]
        },
        {
          "name": "stdout",
          "output_type": "stream",
          "text": [
            "Epoch 00077: adjusting learning rate of group 0 to 1.4181e-02.\n"
          ]
        },
        {
          "name": "stderr",
          "output_type": "stream",
          "text": [
            "Feature extracting: 100%|██████████| 49/49 [00:05<00:00,  9.35it/s]\n",
            "Test Epoch: [97/100] Acc@1:69.39% Acc@5:97.95%: 100%|██████████| 10/10 [00:01<00:00,  6.30it/s]\n"
          ]
        },
        {
          "name": "stdout",
          "output_type": "stream",
          "text": [
            "\n"
          ]
        },
        {
          "name": "stderr",
          "output_type": "stream",
          "text": [
            "Train Epoch: [98/100] Loss: 6.1985: 100%|██████████| 48/48 [00:23<00:00,  2.07it/s]\n"
          ]
        },
        {
          "name": "stdout",
          "output_type": "stream",
          "text": [
            "Epoch 00078: adjusting learning rate of group 0 to 1.4236e-02.\n"
          ]
        },
        {
          "name": "stderr",
          "output_type": "stream",
          "text": [
            "Feature extracting: 100%|██████████| 49/49 [00:05<00:00,  9.56it/s]\n",
            "Test Epoch: [98/100] Acc@1:69.06% Acc@5:97.98%: 100%|██████████| 10/10 [00:01<00:00,  6.29it/s]\n"
          ]
        },
        {
          "name": "stdout",
          "output_type": "stream",
          "text": [
            "\n"
          ]
        },
        {
          "name": "stderr",
          "output_type": "stream",
          "text": [
            "Train Epoch: [99/100] Loss: 6.1976: 100%|██████████| 48/48 [00:23<00:00,  2.03it/s]\n"
          ]
        },
        {
          "name": "stdout",
          "output_type": "stream",
          "text": [
            "Epoch 00079: adjusting learning rate of group 0 to 1.4293e-02.\n"
          ]
        },
        {
          "name": "stderr",
          "output_type": "stream",
          "text": [
            "Feature extracting: 100%|██████████| 49/49 [00:05<00:00,  9.38it/s]\n",
            "Test Epoch: [99/100] Acc@1:69.49% Acc@5:97.89%: 100%|██████████| 10/10 [00:01<00:00,  6.30it/s]\n"
          ]
        },
        {
          "name": "stdout",
          "output_type": "stream",
          "text": [
            "\n"
          ]
        },
        {
          "name": "stderr",
          "output_type": "stream",
          "text": [
            "Train Epoch: [100/100] Loss: 6.1970: 100%|██████████| 48/48 [00:23<00:00,  2.07it/s]\n"
          ]
        },
        {
          "name": "stdout",
          "output_type": "stream",
          "text": [
            "Epoch 00080: adjusting learning rate of group 0 to 1.4350e-02.\n"
          ]
        },
        {
          "name": "stderr",
          "output_type": "stream",
          "text": [
            "Feature extracting: 100%|██████████| 49/49 [00:05<00:00,  9.37it/s]\n",
            "Test Epoch: [100/100] Acc@1:69.76% Acc@5:98.13%: 100%|██████████| 10/10 [00:01<00:00,  6.53it/s]\n"
          ]
        }
      ],
      "source": [
        "# ~~~~~~~~~~~~~~~~~~~~~~~~~~~~KEEP THIS~~~~~~~~~~~~~~~~~~~~~~~~~~~~~\n",
        "# ~~~~~~~~~~~~~~~~~~~~~~~~~~~~KEEP THIS~~~~~~~~~~~~~~~~~~~~~~~~~~~~~\n",
        "current_epoch = 0\n",
        "\n",
        "# DECAY_EPOCHS = 10\n",
        "\n",
        "results = {'train_loss': [], 'val_loss': [], 'test_acc@1': [], 'test_acc@5': []}\n",
        "save_name_pre = 'B{}_E{}'.format(BATCH, EPOCHS)\n",
        "\n",
        "if not os.path.exists('./results'):\n",
        "    os.mkdir('results')\n",
        "\n",
        "best_acc = 0.0\n",
        "for epoch in range(EPOCHS):\n",
        "    # if epoch % DECAY_EPOCHS == 0 and epoch != 0:\n",
        "    #     LR = LR * DECAY\n",
        "    #     for param_group in optimizer.param_groups:\n",
        "    #         param_group['lr'] = LR\n",
        "    #     print(\"Current learning rate has decayed to %f\" %param_group['lr'])\n",
        "\n",
        "    print(\"\")\n",
        "    model.train()\n",
        "    total_loss, total_num, train_bar = 0.0, 0, tqdm(train_loader)\n",
        "\n",
        "    for x_1, x_2, target in train_bar:\n",
        "        x_1, x_2 = x_1.cuda(non_blocking=True), x_2.cuda(non_blocking=True)\n",
        "\n",
        "        feature_1, out_1 = model(x_1)\n",
        "        feature_2, out_2 = model(x_2)\n",
        "\n",
        "        loss = criterion(out_1, out_2)\n",
        "        \n",
        "        # # [2*B, D]\n",
        "        # out = torch.cat([out_1, out_2], dim=0)\n",
        "        # # [2*B, 2*B]\n",
        "        # sim_matrix = torch.exp(torch.mm(out, out.t().contiguous()) / temperature)\n",
        "        # mask = (torch.ones_like(sim_matrix) - torch.eye(2 * batch_size, device=sim_matrix.device)).bool()\n",
        "        # # [2*B, 2*B-1]\n",
        "        # sim_matrix = sim_matrix.masked_select(mask).view(2 * batch_size, -1)\n",
        "\n",
        "        # # compute loss\n",
        "        # pos_sim = torch.exp(torch.sum(out_1 * out_2, dim=-1) / temperature)\n",
        "        # # [2*B]\n",
        "        # pos_sim = torch.cat([pos_sim, pos_sim], dim=0)\n",
        "        # loss = (- torch.log(pos_sim / sim_matrix.sum(dim=-1))).mean()\n",
        "        optimizer.zero_grad()\n",
        "        loss.backward()\n",
        "        optimizer.step()\n",
        "\n",
        "        total_num += BATCH\n",
        "        total_loss += loss.item() * BATCH\n",
        "        train_bar.set_description('Train Epoch: [{}/{}] Loss: {:.4f}'.format(epoch+1, EPOCHS, total_loss / total_num))\n",
        "        \n",
        "        train_loss = total_loss/total_num\n",
        "\n",
        "    results['train_loss'].append(train_loss)\n",
        "\n",
        "    if epoch < 20:\n",
        "        warmupscheduler.step()\n",
        "    if epoch >= 20:\n",
        "        mainscheduler.step()\n",
        "\n",
        "    lr = optimizer.param_groups[0][\"lr\"]\n",
        "\n",
        "    optimizer.step()\n",
        "\n",
        "    model.eval()\n",
        "    total_loss_val, total_top1, total_top5, total_num, feature_bank = 0.0, 0.0, 0.0, 0, []\n",
        "\n",
        "    with torch.no_grad():\n",
        "        # generate feature bank\n",
        "        for data, _, target in tqdm(memory_loader, desc='Feature extracting'):\n",
        "            feature, out = model(data.cuda(non_blocking=True))\n",
        "            feature_bank.append(feature)\n",
        "        # [D, N]\n",
        "        feature_bank = torch.cat(feature_bank, dim=0).t().contiguous()\n",
        "        # [N]\n",
        "        feature_labels = torch.tensor(memory_loader.dataset.targets, device=feature_bank.device)\n",
        "\n",
        "        # loop test data to predict the label by weighted knn search\n",
        "        test_bar = tqdm(test_loader)\n",
        "        for data, data2, target in test_bar:\n",
        "            data, data2, target = data.cuda(non_blocking=True), data2.cuda(non_blocking=True), target.cuda(non_blocking=True)\n",
        "            feature, out = model(data)\n",
        "            feature2, out2 = model(data2)\n",
        "\n",
        "            total_num += data.size(0)\n",
        "\n",
        "            loss_val = criterion(out, out2)\n",
        "            total_loss_val += loss_val.item() * BATCH\n",
        "\n",
        "            val_loss = total_loss_val/total_num\n",
        "\n",
        "\n",
        "            # compute cos similarity between each feature vector and feature bank ---> [B, N]\n",
        "            sim_matrix = torch.mm(feature, feature_bank)\n",
        "            # [B, K]\n",
        "            sim_weight, sim_indices = sim_matrix.topk(k=200, dim=-1)\n",
        "            # [B, K]\n",
        "            sim_labels = torch.gather(feature_labels.expand(data.size(0), -1), dim=-1, index=sim_indices)\n",
        "            sim_weight = (sim_weight / TEMP).exp()\n",
        "\n",
        "            # counts for each class\n",
        "            one_hot_label = torch.zeros(data.size(0) * 200, 10, device=sim_labels.device)\n",
        "            # [B*K, C]\n",
        "            one_hot_label = one_hot_label.scatter(dim=-1, index=sim_labels.view(-1, 1), value=1.0)\n",
        "            # weighted score ---> [B, C]\n",
        "            pred_scores = torch.sum(one_hot_label.view(data.size(0), -1, 10) * sim_weight.unsqueeze(dim=-1), dim=1)\n",
        "\n",
        "            pred_labels = pred_scores.argsort(dim=-1, descending=True)\n",
        "\n",
        "            total_top1 += torch.sum((pred_labels[:, :1] == target.unsqueeze(dim=-1)).any(dim=-1).float()).item()\n",
        "            total_top5 += torch.sum((pred_labels[:, :5] == target.unsqueeze(dim=-1)).any(dim=-1).float()).item()\n",
        "            test_bar.set_description('Test Epoch: [{}/{}] Acc@1:{:.2f}% Acc@5:{:.2f}%'\n",
        "                                     .format(epoch+1, EPOCHS, total_top1 / total_num * 100, total_top5 / total_num * 100))\n",
        "            \n",
        "    results['val_loss'].append(val_loss)\n",
        "\n",
        "    test_acc_1 = total_top1 / total_num * 100\n",
        "    test_acc_5 = total_top5 / total_num * 100\n",
        "\n",
        "    results['test_acc@1'].append(test_acc_1)\n",
        "    results['test_acc@5'].append(test_acc_5)\n",
        "\n",
        "    # save statistics\n",
        "    # data_frame = pd.DataFrame(data=results, index=range(1, epoch + 1))\n",
        "    # data_frame.to_csv('results/{}_statistics.csv'.format(save_name_pre), index_label='epoch')\n",
        "\n",
        "    if test_acc_1 > best_acc:\n",
        "        best_acc = test_acc_1\n",
        "        # torch.save(model.state_dict(), '/workspaces/RepLearning/saved_models/{}_best_model.pth'.format(save_name_pre))\n",
        "        torch.save(model.state_dict(), './results/{}_lars_adam_with_schedulers_best_model.pth'.format(save_name_pre))\n",
        "     \n",
        "    # save_model(model, optimizer, mainscheduler, current_epoch, \"SimCLR_CIFAR10_RN20_bestacc.pt\")\n",
        "    # save every epoch as backup\n",
        "    # torch.save(model.state_dict(), f'./results/backup/{save_name_pre}_e{epoch}.pth')\n",
        "\n",
        "    # current_epoch+=1"
      ]
    },
    {
      "cell_type": "code",
      "execution_count": null,
      "metadata": {
        "id": "hfY2OjcwSMUv"
      },
      "outputs": [],
      "source": [
        "# save statistics\n",
        "data_frame = pd.DataFrame(data=results, index=range(1, epoch+2))\n",
        "data_frame.to_csv('results/{}_lars_adam_with_schedulers_statistics.csv'.format(save_name_pre), index_label='epoch')"
      ]
    }
  ],
  "metadata": {
    "accelerator": "GPU",
    "colab": {
      "collapsed_sections": [
        "h2z2H-YWYrEZ",
        "o0iqhq7bGJvz",
        "vYF0w9pZHYjq",
        "-D_wcF_0WH1f",
        "4n4gfFo_gJDS"
      ],
      "provenance": [],
      "toc_visible": true
    },
    "gpuClass": "premium",
    "kernelspec": {
      "display_name": "py310",
      "language": "python",
      "name": "python3"
    },
    "language_info": {
      "codemirror_mode": {
        "name": "ipython",
        "version": 3
      },
      "file_extension": ".py",
      "mimetype": "text/x-python",
      "name": "python",
      "nbconvert_exporter": "python",
      "pygments_lexer": "ipython3",
      "version": "3.9.15"
    },
    "vscode": {
      "interpreter": {
        "hash": "deecd4eed52e347fdb227bd6db7ebbadf0a7fc99b7440320ff3532cd8683bd78"
      }
    }
  },
  "nbformat": 4,
  "nbformat_minor": 0
}
