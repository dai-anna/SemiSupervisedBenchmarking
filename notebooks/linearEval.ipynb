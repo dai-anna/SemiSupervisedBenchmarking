{
  "cells": [
    {
      "cell_type": "markdown",
      "metadata": {
        "id": "V-K9kchMgJDD"
      },
      "source": [
        "# Linear Evaluations\n"
      ]
    },
    {
      "cell_type": "markdown",
      "metadata": {
        "id": "qXNcTaPBHYjd"
      },
      "source": [
        "## Import Libraries"
      ]
    },
    {
      "cell_type": "code",
      "execution_count": null,
      "metadata": {},
      "outputs": [],
      "source": [
        "COLAB = True\n",
        "if COLAB:\n",
        "    from google.colab import drive\n",
        "    drive.mount('/content/drive')\n",
        "    # navigate to the folder where this notebook is located\n",
        "    %%cd drive/MyDrive/Duke/DNN/final"
      ]
    },
    {
      "cell_type": "code",
      "execution_count": null,
      "metadata": {
        "id": "6n1nTJyBgJDK"
      },
      "outputs": [],
      "source": [
        "# import necessary dependencies\n",
        "import argparse\n",
        "import os, sys\n",
        "import time\n",
        "import datetime\n",
        "import pickle\n",
        "import random\n",
        "from tqdm import tqdm\n",
        "\n",
        "import torch\n",
        "import torch.nn as nn\n",
        "import torch.nn.functional as F\n",
        "import torch.optim as optim\n",
        "\n",
        "import numpy as np\n",
        "import pandas as pd\n",
        "\n",
        "# import shutil, time, os, requests, random, copy\n",
        "\n",
        "import matplotlib.pyplot as plt\n",
        "import seaborn as sns\n",
        "\n",
        "# move one directory up to import from src\n",
        "if os.getcwd().split(\"/\")[-1] == \"notebooks\":\n",
        "    os.chdir(\"..\")\n",
        "\n",
        "# from src.setdevice import set_device\n",
        "from src.dataloader_eval import DataLoader, GenericDataset\n",
        "import warnings\n",
        "warnings.filterwarnings(\"ignore\")\n"
      ]
    },
    {
      "cell_type": "markdown",
      "metadata": {
        "id": "pBZIPqbXHYjf"
      },
      "source": [
        "## Set Seeds"
      ]
    },
    {
      "cell_type": "code",
      "execution_count": 5,
      "metadata": {
        "id": "SskcaVBxHYjf"
      },
      "outputs": [],
      "source": [
        "def set_seed(seed=42):\n",
        "    np.random.seed(seed)\n",
        "    torch.manual_seed(seed)\n",
        "    torch.cuda.manual_seed(seed)\n",
        "    random.seed(seed)\n",
        "set_seed()"
      ]
    },
    {
      "cell_type": "code",
      "execution_count": 6,
      "metadata": {
        "colab": {
          "base_uri": "https://localhost:8080/"
        },
        "id": "IY7ItRwLZekU",
        "outputId": "38a21b73-1ee0-45e4-e6ac-46306fe599b5"
      },
      "outputs": [
        {
          "name": "stdout",
          "output_type": "stream",
          "text": [
            "Running on cuda GPU: A100-SXM4-40GB\n"
          ]
        }
      ],
      "source": [
        "def set_device():\n",
        "    if torch.cuda.is_available():  # check if NVIDIA GPU is available\n",
        "        device = torch.device(\"cuda\")\n",
        "        print(f\"Running on {device} GPU: {torch.cuda.get_device_name(0)}\")\n",
        "    elif torch.backends.mps.is_available():  # check if Apple's Metal is available\n",
        "        device = torch.device(\"mps\")\n",
        "        print(\n",
        "            f\"Checking pytorch is built with mps activated: {torch.backends.mps.is_built()}\"\n",
        "        )\n",
        "        print(f\"Running on {device} GPU...\")\n",
        "    else:\n",
        "        device = torch.device(\"cpu\")\n",
        "        print(\"Running on CPU...\")\n",
        "\n",
        "    return device\n",
        "\n",
        "\n",
        "device = set_device()\n"
      ]
    },
    {
      "cell_type": "markdown",
      "metadata": {
        "id": "rs8eB9yNHYjn"
      },
      "source": [
        "## Define f(·) encoder - ResNet20\n"
      ]
    },
    {
      "cell_type": "code",
      "execution_count": 8,
      "metadata": {
        "id": "Fsohg9aQHYjn"
      },
      "outputs": [],
      "source": [
        "\"\"\"\n",
        "It is the neural network model base encoder f(·) that extracts representation vectors \n",
        "from augmented data examples. We choose to use the ResNet20 architecture.\n",
        "\"\"\"\n",
        "\n",
        "# Residual Block\n",
        "class BasicBlock(nn.Module):\n",
        "    def __init__(self, inplanes, planes, stride=1):\n",
        "        super(BasicBlock, self).__init__()\n",
        "        self.conv1 = nn.Conv2d(\n",
        "            in_channels=inplanes,\n",
        "            out_channels=planes,\n",
        "            kernel_size=3,\n",
        "            stride=stride,\n",
        "            padding=1,\n",
        "            bias=False,\n",
        "        )\n",
        "        self.bn1 = nn.BatchNorm2d(planes)\n",
        "        self.conv2 = nn.Conv2d(\n",
        "            planes, out_channels=planes, kernel_size=3, stride=1, padding=1, bias=False\n",
        "        )\n",
        "        self.bn2 = nn.BatchNorm2d(planes)\n",
        "        if inplanes > planes or stride > 1:\n",
        "            # Option B\n",
        "            self.downsample = nn.Sequential(\n",
        "                nn.Conv2d(\n",
        "                    in_channels=inplanes,\n",
        "                    out_channels=planes,\n",
        "                    kernel_size=1,\n",
        "                    stride=stride,\n",
        "                    padding=0,\n",
        "                    bias=False,\n",
        "                ),\n",
        "                nn.BatchNorm2d(planes),\n",
        "            )\n",
        "        else:\n",
        "            self.downsample = None\n",
        "        self.stride = stride\n",
        "\n",
        "    def forward(self, x):\n",
        "        identity = x\n",
        "        out = F.relu(self.bn1(self.conv1(x)))\n",
        "        out = self.bn2(self.conv2(out))\n",
        "        out += identity if self.downsample is None else self.downsample(identity)\n",
        "        out = F.relu(out)\n",
        "        return out\n",
        "\n",
        "\n",
        "# ResNet\n",
        "class ResNet(nn.Module):\n",
        "    def __init__(self, block, layers, num_classes=10):\n",
        "        super(ResNet, self).__init__()\n",
        "        self.inplanes = 16\n",
        "        self.conv0 = nn.Conv2d(\n",
        "            in_channels=3,\n",
        "            out_channels=self.inplanes,\n",
        "            kernel_size=3,\n",
        "            stride=1,\n",
        "            padding=1,\n",
        "            bias=False,\n",
        "        )\n",
        "        self.bn0 = nn.BatchNorm2d(self.inplanes)\n",
        "        self.layer1 = self._make_layer(block, planes=16, blocks=layers[0], stride=1)\n",
        "        self.layer2 = self._make_layer(block, planes=32, blocks=layers[1], stride=2)\n",
        "        self.layer3 = self._make_layer(block, planes=64, blocks=layers[2], stride=2)\n",
        "        self.avgpool = nn.AdaptiveAvgPool2d((1, 1))\n",
        "\n",
        "    def _make_layer(self, block, planes, blocks, stride):\n",
        "        layers = []\n",
        "        for i in range(blocks):\n",
        "            layers.append(\n",
        "                block(\n",
        "                    inplanes=(self.inplanes if i == 0 else planes),\n",
        "                    planes=planes,\n",
        "                    stride=stride if i == 0 else 1,\n",
        "                )\n",
        "            )\n",
        "        self.inplanes = planes\n",
        "        return nn.Sequential(*layers)\n",
        "\n",
        "    def forward(self, x):\n",
        "        x = F.relu(self.bn0(self.conv0(x)))\n",
        "        x = self.layer1(x)\n",
        "        x = self.layer2(x)\n",
        "        x = self.layer3(x)\n",
        "        x = self.avgpool(x)\n",
        "        x = x.view(x.size(0), -1)\n",
        "\n",
        "        return x\n"
      ]
    },
    {
      "cell_type": "markdown",
      "metadata": {
        "id": "Jn1yXNXLiQZ_"
      },
      "source": [
        "## Define LinearEval\n",
        "\n",
        "Only the encoder part of the model is used to evaluate"
      ]
    },
    {
      "cell_type": "code",
      "execution_count": 43,
      "metadata": {
        "id": "SqHKTXNCKyHs"
      },
      "outputs": [],
      "source": [
        "class LinearEval(nn.Module):\n",
        "    def __init__(self, num_class, pretrained_path):\n",
        "        super(LinearEval, self).__init__()\n",
        "\n",
        "        # encoder\n",
        "        self.encoder = ResNet(BasicBlock, [3, 3, 3]) #f(·) encoder\n",
        "        # classifier\n",
        "        self.fc = nn.Linear(64, 10, bias=True)\n",
        "        self.load_state_dict(\n",
        "            torch.load(pretrained_path, map_location=\"cpu\"), strict=False\n",
        "        )\n",
        "\n",
        "    def forward(self, x):\n",
        "        x = self.encoder(x)\n",
        "        out = self.fc(x)\n",
        "        return out"
      ]
    },
    {
      "cell_type": "markdown",
      "metadata": {
        "id": "l-xEYAy0k5FU"
      },
      "source": [
        "\n",
        "## Set up Hyperparameters for Eval\n",
        "\n",
        "Range reference from paper:\n",
        "\n",
        "LRS = [0.5, 1, 1.5]\n",
        "\n",
        "BATCHES = [256, 512, 1024, 2048, 4096]"
      ]
    },
    {
      "cell_type": "code",
      "execution_count": 44,
      "metadata": {
        "id": "F8u57t9xYDer"
      },
      "outputs": [],
      "source": [
        "# Tunable hyperparameters\n",
        "BATCH = 1024\n",
        "LR = 0.001 * BATCH / 256\n",
        "EPOCHS = 90\n",
        "DECAY = 1e-4\n"
      ]
    },
    {
      "cell_type": "markdown",
      "metadata": {
        "id": "bhhoU5oTKyHs"
      },
      "source": [
        "## Load Best Model to Evaluate"
      ]
    },
    {
      "cell_type": "code",
      "execution_count": 27,
      "metadata": {
        "id": "3Y9ANtSSKyHs"
      },
      "outputs": [],
      "source": [
        "# load best model\n",
        "model_path = \"results/B1024_E100_lars_with_schedulers_best_model.pth\"\n",
        "\n",
        "model = LinearEval(num_class=10, pretrained_path=model_path).to(device)\n",
        "\n",
        "for param in model.encoder.parameters():\n",
        "    param.requires_grad = False\n",
        "\n",
        "optimizer = optim.Adam(model.fc.parameters(), lr=LR, weight_decay=DECAY) \n",
        "criterion = nn.CrossEntropyLoss() "
      ]
    },
    {
      "attachments": {},
      "cell_type": "markdown",
      "metadata": {
        "id": "B0SmV6n4izwF"
      },
      "source": [
        "## Load Data\n",
        "This loader only loads a percentage of data to test performance on limited data. This is the same as what is used in RotNet implementation"
      ]
    },
    {
      "cell_type": "code",
      "execution_count": 32,
      "metadata": {
        "colab": {
          "base_uri": "https://localhost:8080/"
        },
        "id": "gAAJZHBJKyHu",
        "outputId": "cf5fa99f-3af2-4310-a006-ea507a17f10f"
      },
      "outputs": [
        {
          "name": "stdout",
          "output_type": "stream",
          "text": [
            "Files already downloaded and verified\n",
            "num_imgs_per_category 500\n",
            "Files already downloaded and verified\n"
          ]
        }
      ],
      "source": [
        "# Load limited data\n",
        "LOAD_PCT = .10\n",
        "\n",
        "train_set = GenericDataset(\n",
        "    dataset_name='cifar10',\n",
        "    split= 'train', # crop and horizontal flip \n",
        "    num_imgs_per_cat=int(LOAD_PCT*5000))\n",
        "test_set = GenericDataset(\n",
        "    dataset_name='cifar10',\n",
        "    split='test') \n",
        "\n",
        "train_loader = DataLoader(\n",
        "    dataset=train_set,\n",
        "    batch_size=BATCH,\n",
        "    unsupervised=False,\n",
        "    epoch_size=10*5000,\n",
        "    num_workers=4,\n",
        "    shuffle=True)\n",
        "\n",
        "test_loader = DataLoader(\n",
        "    dataset=test_set,\n",
        "    batch_size=BATCH,\n",
        "    unsupervised=False,\n",
        "    epoch_size=None,\n",
        "    num_workers=4,\n",
        "    shuffle=False)\n",
        "\n",
        "############################################"
      ]
    },
    {
      "cell_type": "markdown",
      "metadata": {
        "id": "US_4bRm2jRMN"
      },
      "source": [
        "## Training Loop"
      ]
    },
    {
      "cell_type": "code",
      "execution_count": null,
      "metadata": {
        "id": "3Wf37kRhjYEo"
      },
      "outputs": [],
      "source": [
        "save_name_eval = \"B1024_E100_lars_with_schedulers\""
      ]
    },
    {
      "cell_type": "code",
      "execution_count": 40,
      "metadata": {
        "colab": {
          "base_uri": "https://localhost:8080/"
        },
        "id": "_Bcf737Pk4ti",
        "outputId": "2754c489-1cc0-421e-a595-7f19edeb5da2"
      },
      "outputs": [
        {
          "name": "stdout",
          "output_type": "stream",
          "text": [
            "evaluating 10 data\n",
            "\n"
          ]
        },
        {
          "name": "stderr",
          "output_type": "stream",
          "text": [
            "Train Epoch: [1/90] Loss: 1.0916 ACC@1: 62.96% ACC@5: 95.50%: 100%|██████████| 391/391 [00:06<00:00, 63.41it/s]\n",
            "Test Epoch: [1/90] Loss: 0.9243 ACC@1: 67.27% ACC@5: 97.43%: 100%|██████████| 79/79 [00:01<00:00, 76.66it/s]\n"
          ]
        },
        {
          "name": "stdout",
          "output_type": "stream",
          "text": [
            "\n"
          ]
        },
        {
          "name": "stderr",
          "output_type": "stream",
          "text": [
            "Train Epoch: [2/90] Loss: 1.0267 ACC@1: 64.35% ACC@5: 96.07%: 100%|██████████| 391/391 [00:06<00:00, 63.62it/s]\n",
            "Test Epoch: [2/90] Loss: 0.9208 ACC@1: 67.11% ACC@5: 97.46%: 100%|██████████| 79/79 [00:01<00:00, 74.23it/s]\n"
          ]
        },
        {
          "name": "stdout",
          "output_type": "stream",
          "text": [
            "\n"
          ]
        },
        {
          "name": "stderr",
          "output_type": "stream",
          "text": [
            "Train Epoch: [3/90] Loss: 1.0070 ACC@1: 64.68% ACC@5: 96.25%: 100%|██████████| 391/391 [00:06<00:00, 63.89it/s]\n",
            "Test Epoch: [3/90] Loss: 0.9007 ACC@1: 67.63% ACC@5: 97.74%: 100%|██████████| 79/79 [00:01<00:00, 71.69it/s]\n"
          ]
        },
        {
          "name": "stdout",
          "output_type": "stream",
          "text": [
            "\n"
          ]
        },
        {
          "name": "stderr",
          "output_type": "stream",
          "text": [
            "Train Epoch: [4/90] Loss: 0.9968 ACC@1: 65.33% ACC@5: 96.24%: 100%|██████████| 391/391 [00:06<00:00, 62.32it/s]\n",
            "Test Epoch: [4/90] Loss: 0.8793 ACC@1: 68.34% ACC@5: 97.62%: 100%|██████████| 79/79 [00:01<00:00, 74.13it/s]\n"
          ]
        },
        {
          "name": "stdout",
          "output_type": "stream",
          "text": [
            "\n"
          ]
        },
        {
          "name": "stderr",
          "output_type": "stream",
          "text": [
            "Train Epoch: [5/90] Loss: 0.9907 ACC@1: 65.15% ACC@5: 96.41%: 100%|██████████| 391/391 [00:06<00:00, 61.99it/s]\n",
            "Test Epoch: [5/90] Loss: 0.8937 ACC@1: 67.47% ACC@5: 97.86%: 100%|██████████| 79/79 [00:01<00:00, 73.64it/s]\n"
          ]
        },
        {
          "name": "stdout",
          "output_type": "stream",
          "text": [
            "\n"
          ]
        },
        {
          "name": "stderr",
          "output_type": "stream",
          "text": [
            "Train Epoch: [6/90] Loss: 0.9827 ACC@1: 65.65% ACC@5: 96.49%: 100%|██████████| 391/391 [00:06<00:00, 62.90it/s]\n",
            "Test Epoch: [6/90] Loss: 0.8803 ACC@1: 68.06% ACC@5: 97.79%: 100%|██████████| 79/79 [00:01<00:00, 71.58it/s]\n"
          ]
        },
        {
          "name": "stdout",
          "output_type": "stream",
          "text": [
            "\n"
          ]
        },
        {
          "name": "stderr",
          "output_type": "stream",
          "text": [
            "Train Epoch: [7/90] Loss: 0.9823 ACC@1: 65.53% ACC@5: 96.34%: 100%|██████████| 391/391 [00:06<00:00, 62.89it/s]\n",
            "Test Epoch: [7/90] Loss: 0.8812 ACC@1: 67.78% ACC@5: 97.71%: 100%|██████████| 79/79 [00:01<00:00, 73.68it/s]\n"
          ]
        },
        {
          "name": "stdout",
          "output_type": "stream",
          "text": [
            "\n"
          ]
        },
        {
          "name": "stderr",
          "output_type": "stream",
          "text": [
            "Train Epoch: [8/90] Loss: 0.9743 ACC@1: 65.95% ACC@5: 96.43%: 100%|██████████| 391/391 [00:06<00:00, 62.61it/s]\n",
            "Test Epoch: [8/90] Loss: 0.8747 ACC@1: 68.18% ACC@5: 97.76%: 100%|██████████| 79/79 [00:01<00:00, 73.91it/s]\n"
          ]
        },
        {
          "name": "stdout",
          "output_type": "stream",
          "text": [
            "\n"
          ]
        },
        {
          "name": "stderr",
          "output_type": "stream",
          "text": [
            "Train Epoch: [9/90] Loss: 0.9750 ACC@1: 65.81% ACC@5: 96.52%: 100%|██████████| 391/391 [00:06<00:00, 62.76it/s]\n",
            "Test Epoch: [9/90] Loss: 0.8655 ACC@1: 68.38% ACC@5: 97.97%: 100%|██████████| 79/79 [00:01<00:00, 70.21it/s]\n"
          ]
        },
        {
          "name": "stdout",
          "output_type": "stream",
          "text": [
            "\n"
          ]
        },
        {
          "name": "stderr",
          "output_type": "stream",
          "text": [
            "Train Epoch: [10/90] Loss: 0.9776 ACC@1: 65.58% ACC@5: 96.44%: 100%|██████████| 391/391 [00:06<00:00, 63.63it/s]\n",
            "Test Epoch: [10/90] Loss: 0.8739 ACC@1: 68.10% ACC@5: 97.77%: 100%|██████████| 79/79 [00:01<00:00, 75.65it/s]\n"
          ]
        },
        {
          "name": "stdout",
          "output_type": "stream",
          "text": [
            "\n"
          ]
        },
        {
          "name": "stderr",
          "output_type": "stream",
          "text": [
            "Train Epoch: [11/90] Loss: 0.9752 ACC@1: 65.95% ACC@5: 96.46%: 100%|██████████| 391/391 [00:06<00:00, 63.89it/s]\n",
            "Test Epoch: [11/90] Loss: 0.8817 ACC@1: 67.99% ACC@5: 97.72%: 100%|██████████| 79/79 [00:01<00:00, 74.00it/s]\n"
          ]
        },
        {
          "name": "stdout",
          "output_type": "stream",
          "text": [
            "\n"
          ]
        },
        {
          "name": "stderr",
          "output_type": "stream",
          "text": [
            "Train Epoch: [12/90] Loss: 0.9715 ACC@1: 66.06% ACC@5: 96.48%: 100%|██████████| 391/391 [00:06<00:00, 63.62it/s]\n",
            "Test Epoch: [12/90] Loss: 0.8600 ACC@1: 68.96% ACC@5: 97.77%: 100%|██████████| 79/79 [00:01<00:00, 72.63it/s]\n"
          ]
        },
        {
          "name": "stdout",
          "output_type": "stream",
          "text": [
            "\n"
          ]
        },
        {
          "name": "stderr",
          "output_type": "stream",
          "text": [
            "Train Epoch: [13/90] Loss: 0.9728 ACC@1: 66.00% ACC@5: 96.45%: 100%|██████████| 391/391 [00:06<00:00, 61.94it/s]\n",
            "Test Epoch: [13/90] Loss: 0.8608 ACC@1: 68.89% ACC@5: 97.73%: 100%|██████████| 79/79 [00:01<00:00, 77.47it/s] \n"
          ]
        },
        {
          "name": "stdout",
          "output_type": "stream",
          "text": [
            "\n"
          ]
        },
        {
          "name": "stderr",
          "output_type": "stream",
          "text": [
            "Train Epoch: [14/90] Loss: 0.9719 ACC@1: 65.87% ACC@5: 96.53%: 100%|██████████| 391/391 [00:06<00:00, 62.10it/s]\n",
            "Test Epoch: [14/90] Loss: 0.8525 ACC@1: 69.06% ACC@5: 97.86%: 100%|██████████| 79/79 [00:01<00:00, 73.08it/s]\n"
          ]
        },
        {
          "name": "stdout",
          "output_type": "stream",
          "text": [
            "\n"
          ]
        },
        {
          "name": "stderr",
          "output_type": "stream",
          "text": [
            "Train Epoch: [15/90] Loss: 0.9651 ACC@1: 66.28% ACC@5: 96.55%: 100%|██████████| 391/391 [00:06<00:00, 63.80it/s]\n",
            "Test Epoch: [15/90] Loss: 0.8631 ACC@1: 68.72% ACC@5: 97.87%: 100%|██████████| 79/79 [00:01<00:00, 74.05it/s]\n"
          ]
        },
        {
          "name": "stdout",
          "output_type": "stream",
          "text": [
            "\n"
          ]
        },
        {
          "name": "stderr",
          "output_type": "stream",
          "text": [
            "Train Epoch: [16/90] Loss: 0.9640 ACC@1: 66.37% ACC@5: 96.52%: 100%|██████████| 391/391 [00:06<00:00, 60.27it/s]\n",
            "Test Epoch: [16/90] Loss: 0.8558 ACC@1: 69.21% ACC@5: 97.94%: 100%|██████████| 79/79 [00:01<00:00, 55.97it/s]\n"
          ]
        },
        {
          "name": "stdout",
          "output_type": "stream",
          "text": [
            "\n"
          ]
        },
        {
          "name": "stderr",
          "output_type": "stream",
          "text": [
            "Train Epoch: [17/90] Loss: 0.9622 ACC@1: 66.46% ACC@5: 96.63%: 100%|██████████| 391/391 [00:06<00:00, 62.43it/s]\n",
            "Test Epoch: [17/90] Loss: 0.8694 ACC@1: 68.75% ACC@5: 97.76%: 100%|██████████| 79/79 [00:01<00:00, 68.32it/s]\n"
          ]
        },
        {
          "name": "stdout",
          "output_type": "stream",
          "text": [
            "\n"
          ]
        },
        {
          "name": "stderr",
          "output_type": "stream",
          "text": [
            "Train Epoch: [18/90] Loss: 0.9670 ACC@1: 65.99% ACC@5: 96.58%: 100%|██████████| 391/391 [00:06<00:00, 60.99it/s]\n",
            "Test Epoch: [18/90] Loss: 0.8705 ACC@1: 68.38% ACC@5: 97.69%: 100%|██████████| 79/79 [00:01<00:00, 71.98it/s]\n"
          ]
        },
        {
          "name": "stdout",
          "output_type": "stream",
          "text": [
            "\n"
          ]
        },
        {
          "name": "stderr",
          "output_type": "stream",
          "text": [
            "Train Epoch: [19/90] Loss: 0.9641 ACC@1: 66.13% ACC@5: 96.49%: 100%|██████████| 391/391 [00:06<00:00, 62.19it/s]\n",
            "Test Epoch: [19/90] Loss: 0.8568 ACC@1: 68.79% ACC@5: 97.92%: 100%|██████████| 79/79 [00:01<00:00, 67.34it/s]\n"
          ]
        },
        {
          "name": "stdout",
          "output_type": "stream",
          "text": [
            "\n"
          ]
        },
        {
          "name": "stderr",
          "output_type": "stream",
          "text": [
            "Train Epoch: [20/90] Loss: 0.9670 ACC@1: 65.94% ACC@5: 96.55%: 100%|██████████| 391/391 [00:06<00:00, 61.70it/s]\n",
            "Test Epoch: [20/90] Loss: 0.8540 ACC@1: 69.40% ACC@5: 97.81%: 100%|██████████| 79/79 [00:01<00:00, 72.64it/s]\n"
          ]
        },
        {
          "name": "stdout",
          "output_type": "stream",
          "text": [
            "\n"
          ]
        },
        {
          "name": "stderr",
          "output_type": "stream",
          "text": [
            "Train Epoch: [21/90] Loss: 0.9705 ACC@1: 66.01% ACC@5: 96.53%: 100%|██████████| 391/391 [00:06<00:00, 63.11it/s]\n",
            "Test Epoch: [21/90] Loss: 0.8560 ACC@1: 69.05% ACC@5: 97.83%: 100%|██████████| 79/79 [00:01<00:00, 72.30it/s]\n"
          ]
        },
        {
          "name": "stdout",
          "output_type": "stream",
          "text": [
            "\n"
          ]
        },
        {
          "name": "stderr",
          "output_type": "stream",
          "text": [
            "Train Epoch: [22/90] Loss: 0.9709 ACC@1: 65.98% ACC@5: 96.44%: 100%|██████████| 391/391 [00:06<00:00, 62.54it/s]\n",
            "Test Epoch: [22/90] Loss: 0.8552 ACC@1: 68.70% ACC@5: 98.00%: 100%|██████████| 79/79 [00:01<00:00, 76.85it/s] \n"
          ]
        },
        {
          "name": "stdout",
          "output_type": "stream",
          "text": [
            "\n"
          ]
        },
        {
          "name": "stderr",
          "output_type": "stream",
          "text": [
            "Train Epoch: [23/90] Loss: 0.9652 ACC@1: 66.25% ACC@5: 96.56%: 100%|██████████| 391/391 [00:06<00:00, 62.91it/s]\n",
            "Test Epoch: [23/90] Loss: 0.8620 ACC@1: 68.78% ACC@5: 97.80%: 100%|██████████| 79/79 [00:01<00:00, 72.22it/s]\n"
          ]
        },
        {
          "name": "stdout",
          "output_type": "stream",
          "text": [
            "\n"
          ]
        },
        {
          "name": "stderr",
          "output_type": "stream",
          "text": [
            "Train Epoch: [24/90] Loss: 0.9625 ACC@1: 66.36% ACC@5: 96.65%: 100%|██████████| 391/391 [00:06<00:00, 63.01it/s]\n",
            "Test Epoch: [24/90] Loss: 0.8590 ACC@1: 68.89% ACC@5: 97.94%: 100%|██████████| 79/79 [00:01<00:00, 71.15it/s]\n"
          ]
        },
        {
          "name": "stdout",
          "output_type": "stream",
          "text": [
            "\n"
          ]
        },
        {
          "name": "stderr",
          "output_type": "stream",
          "text": [
            "Train Epoch: [25/90] Loss: 0.9704 ACC@1: 65.97% ACC@5: 96.64%: 100%|██████████| 391/391 [00:06<00:00, 62.88it/s]\n",
            "Test Epoch: [25/90] Loss: 0.8784 ACC@1: 68.29% ACC@5: 97.73%: 100%|██████████| 79/79 [00:01<00:00, 70.40it/s]\n"
          ]
        },
        {
          "name": "stdout",
          "output_type": "stream",
          "text": [
            "\n"
          ]
        },
        {
          "name": "stderr",
          "output_type": "stream",
          "text": [
            "Train Epoch: [26/90] Loss: 0.9611 ACC@1: 66.33% ACC@5: 96.55%: 100%|██████████| 391/391 [00:06<00:00, 61.87it/s]\n",
            "Test Epoch: [26/90] Loss: 0.8792 ACC@1: 67.91% ACC@5: 97.81%: 100%|██████████| 79/79 [00:01<00:00, 68.82it/s]\n"
          ]
        },
        {
          "name": "stdout",
          "output_type": "stream",
          "text": [
            "\n"
          ]
        },
        {
          "name": "stderr",
          "output_type": "stream",
          "text": [
            "Train Epoch: [27/90] Loss: 0.9647 ACC@1: 66.27% ACC@5: 96.59%: 100%|██████████| 391/391 [00:06<00:00, 60.93it/s]\n",
            "Test Epoch: [27/90] Loss: 0.8554 ACC@1: 68.93% ACC@5: 97.86%: 100%|██████████| 79/79 [00:01<00:00, 72.01it/s]\n"
          ]
        },
        {
          "name": "stdout",
          "output_type": "stream",
          "text": [
            "\n"
          ]
        },
        {
          "name": "stderr",
          "output_type": "stream",
          "text": [
            "Train Epoch: [28/90] Loss: 0.9656 ACC@1: 66.24% ACC@5: 96.52%: 100%|██████████| 391/391 [00:06<00:00, 64.65it/s]\n",
            "Test Epoch: [28/90] Loss: 0.8459 ACC@1: 69.60% ACC@5: 97.97%: 100%|██████████| 79/79 [00:01<00:00, 78.48it/s] \n"
          ]
        },
        {
          "name": "stdout",
          "output_type": "stream",
          "text": [
            "\n"
          ]
        },
        {
          "name": "stderr",
          "output_type": "stream",
          "text": [
            "Train Epoch: [29/90] Loss: 0.9666 ACC@1: 66.14% ACC@5: 96.59%: 100%|██████████| 391/391 [00:06<00:00, 63.53it/s]\n",
            "Test Epoch: [29/90] Loss: 0.8753 ACC@1: 68.13% ACC@5: 97.80%: 100%|██████████| 79/79 [00:01<00:00, 73.61it/s]\n"
          ]
        },
        {
          "name": "stdout",
          "output_type": "stream",
          "text": [
            "\n"
          ]
        },
        {
          "name": "stderr",
          "output_type": "stream",
          "text": [
            "Train Epoch: [30/90] Loss: 0.9640 ACC@1: 66.44% ACC@5: 96.57%: 100%|██████████| 391/391 [00:06<00:00, 62.77it/s]\n",
            "Test Epoch: [30/90] Loss: 0.8649 ACC@1: 68.98% ACC@5: 97.80%: 100%|██████████| 79/79 [00:01<00:00, 75.73it/s]\n"
          ]
        },
        {
          "name": "stdout",
          "output_type": "stream",
          "text": [
            "\n"
          ]
        },
        {
          "name": "stderr",
          "output_type": "stream",
          "text": [
            "Train Epoch: [31/90] Loss: 0.9664 ACC@1: 66.24% ACC@5: 96.56%: 100%|██████████| 391/391 [00:06<00:00, 63.91it/s]\n",
            "Test Epoch: [31/90] Loss: 0.8791 ACC@1: 68.29% ACC@5: 97.71%: 100%|██████████| 79/79 [00:01<00:00, 74.64it/s]\n"
          ]
        },
        {
          "name": "stdout",
          "output_type": "stream",
          "text": [
            "\n"
          ]
        },
        {
          "name": "stderr",
          "output_type": "stream",
          "text": [
            "Train Epoch: [32/90] Loss: 0.9662 ACC@1: 66.37% ACC@5: 96.42%: 100%|██████████| 391/391 [00:06<00:00, 63.41it/s]\n",
            "Test Epoch: [32/90] Loss: 0.8626 ACC@1: 68.72% ACC@5: 97.94%: 100%|██████████| 79/79 [00:01<00:00, 74.17it/s]\n"
          ]
        },
        {
          "name": "stdout",
          "output_type": "stream",
          "text": [
            "\n"
          ]
        },
        {
          "name": "stderr",
          "output_type": "stream",
          "text": [
            "Train Epoch: [33/90] Loss: 0.9644 ACC@1: 66.08% ACC@5: 96.70%: 100%|██████████| 391/391 [00:06<00:00, 63.33it/s]\n",
            "Test Epoch: [33/90] Loss: 0.8563 ACC@1: 68.84% ACC@5: 97.94%: 100%|██████████| 79/79 [00:01<00:00, 74.13it/s]\n"
          ]
        },
        {
          "name": "stdout",
          "output_type": "stream",
          "text": [
            "\n"
          ]
        },
        {
          "name": "stderr",
          "output_type": "stream",
          "text": [
            "Train Epoch: [34/90] Loss: 0.9693 ACC@1: 66.04% ACC@5: 96.51%: 100%|██████████| 391/391 [00:06<00:00, 64.05it/s]\n",
            "Test Epoch: [34/90] Loss: 0.8676 ACC@1: 68.61% ACC@5: 97.87%: 100%|██████████| 79/79 [00:01<00:00, 77.36it/s]\n"
          ]
        },
        {
          "name": "stdout",
          "output_type": "stream",
          "text": [
            "\n"
          ]
        },
        {
          "name": "stderr",
          "output_type": "stream",
          "text": [
            "Train Epoch: [35/90] Loss: 0.9676 ACC@1: 66.23% ACC@5: 96.61%: 100%|██████████| 391/391 [00:06<00:00, 62.59it/s]\n",
            "Test Epoch: [35/90] Loss: 0.8773 ACC@1: 68.09% ACC@5: 97.58%: 100%|██████████| 79/79 [00:01<00:00, 72.91it/s]\n"
          ]
        },
        {
          "name": "stdout",
          "output_type": "stream",
          "text": [
            "\n"
          ]
        },
        {
          "name": "stderr",
          "output_type": "stream",
          "text": [
            "Train Epoch: [36/90] Loss: 0.9656 ACC@1: 65.86% ACC@5: 96.58%: 100%|██████████| 391/391 [00:06<00:00, 62.84it/s]\n",
            "Test Epoch: [36/90] Loss: 0.8565 ACC@1: 68.78% ACC@5: 97.98%: 100%|██████████| 79/79 [00:01<00:00, 71.92it/s]\n"
          ]
        },
        {
          "name": "stdout",
          "output_type": "stream",
          "text": [
            "\n"
          ]
        },
        {
          "name": "stderr",
          "output_type": "stream",
          "text": [
            "Train Epoch: [37/90] Loss: 0.9603 ACC@1: 66.33% ACC@5: 96.62%: 100%|██████████| 391/391 [00:06<00:00, 62.54it/s]\n",
            "Test Epoch: [37/90] Loss: 0.8601 ACC@1: 69.26% ACC@5: 97.79%: 100%|██████████| 79/79 [00:01<00:00, 72.81it/s]\n"
          ]
        },
        {
          "name": "stdout",
          "output_type": "stream",
          "text": [
            "\n"
          ]
        },
        {
          "name": "stderr",
          "output_type": "stream",
          "text": [
            "Train Epoch: [38/90] Loss: 0.9649 ACC@1: 66.17% ACC@5: 96.68%: 100%|██████████| 391/391 [00:06<00:00, 63.81it/s]\n",
            "Test Epoch: [38/90] Loss: 0.8561 ACC@1: 69.32% ACC@5: 97.82%: 100%|██████████| 79/79 [00:01<00:00, 72.97it/s]\n"
          ]
        },
        {
          "name": "stdout",
          "output_type": "stream",
          "text": [
            "\n"
          ]
        },
        {
          "name": "stderr",
          "output_type": "stream",
          "text": [
            "Train Epoch: [39/90] Loss: 0.9714 ACC@1: 65.96% ACC@5: 96.47%: 100%|██████████| 391/391 [00:06<00:00, 62.40it/s]\n",
            "Test Epoch: [39/90] Loss: 0.8729 ACC@1: 68.37% ACC@5: 97.78%: 100%|██████████| 79/79 [00:01<00:00, 70.86it/s]\n"
          ]
        },
        {
          "name": "stdout",
          "output_type": "stream",
          "text": [
            "\n"
          ]
        },
        {
          "name": "stderr",
          "output_type": "stream",
          "text": [
            "Train Epoch: [40/90] Loss: 0.9682 ACC@1: 66.12% ACC@5: 96.51%: 100%|██████████| 391/391 [00:06<00:00, 63.15it/s]\n",
            "Test Epoch: [40/90] Loss: 0.8769 ACC@1: 68.45% ACC@5: 97.93%: 100%|██████████| 79/79 [00:01<00:00, 76.29it/s] \n"
          ]
        },
        {
          "name": "stdout",
          "output_type": "stream",
          "text": [
            "\n"
          ]
        },
        {
          "name": "stderr",
          "output_type": "stream",
          "text": [
            "Train Epoch: [41/90] Loss: 0.9626 ACC@1: 66.12% ACC@5: 96.59%: 100%|██████████| 391/391 [00:06<00:00, 63.15it/s]\n",
            "Test Epoch: [41/90] Loss: 0.8689 ACC@1: 68.54% ACC@5: 97.91%: 100%|██████████| 79/79 [00:01<00:00, 74.25it/s]\n"
          ]
        },
        {
          "name": "stdout",
          "output_type": "stream",
          "text": [
            "\n"
          ]
        },
        {
          "name": "stderr",
          "output_type": "stream",
          "text": [
            "Train Epoch: [42/90] Loss: 0.9621 ACC@1: 66.32% ACC@5: 96.60%: 100%|██████████| 391/391 [00:06<00:00, 63.56it/s]\n",
            "Test Epoch: [42/90] Loss: 0.8670 ACC@1: 68.47% ACC@5: 97.98%: 100%|██████████| 79/79 [00:01<00:00, 77.04it/s]\n"
          ]
        },
        {
          "name": "stdout",
          "output_type": "stream",
          "text": [
            "\n"
          ]
        },
        {
          "name": "stderr",
          "output_type": "stream",
          "text": [
            "Train Epoch: [43/90] Loss: 0.9645 ACC@1: 66.12% ACC@5: 96.54%: 100%|██████████| 391/391 [00:06<00:00, 62.75it/s]\n",
            "Test Epoch: [43/90] Loss: 0.8662 ACC@1: 68.48% ACC@5: 97.89%: 100%|██████████| 79/79 [00:01<00:00, 74.47it/s]\n"
          ]
        },
        {
          "name": "stdout",
          "output_type": "stream",
          "text": [
            "\n"
          ]
        },
        {
          "name": "stderr",
          "output_type": "stream",
          "text": [
            "Train Epoch: [44/90] Loss: 0.9643 ACC@1: 66.28% ACC@5: 96.59%: 100%|██████████| 391/391 [00:06<00:00, 62.32it/s]\n",
            "Test Epoch: [44/90] Loss: 0.8768 ACC@1: 68.06% ACC@5: 97.82%: 100%|██████████| 79/79 [00:01<00:00, 72.02it/s]\n"
          ]
        },
        {
          "name": "stdout",
          "output_type": "stream",
          "text": [
            "\n"
          ]
        },
        {
          "name": "stderr",
          "output_type": "stream",
          "text": [
            "Train Epoch: [45/90] Loss: 0.9611 ACC@1: 66.25% ACC@5: 96.69%: 100%|██████████| 391/391 [00:06<00:00, 63.10it/s]\n",
            "Test Epoch: [45/90] Loss: 0.8689 ACC@1: 68.67% ACC@5: 97.85%: 100%|██████████| 79/79 [00:01<00:00, 71.83it/s]\n"
          ]
        },
        {
          "name": "stdout",
          "output_type": "stream",
          "text": [
            "\n"
          ]
        },
        {
          "name": "stderr",
          "output_type": "stream",
          "text": [
            "Train Epoch: [46/90] Loss: 0.9621 ACC@1: 66.27% ACC@5: 96.61%: 100%|██████████| 391/391 [00:06<00:00, 61.62it/s]\n",
            "Test Epoch: [46/90] Loss: 0.8591 ACC@1: 69.05% ACC@5: 97.85%: 100%|██████████| 79/79 [00:01<00:00, 72.57it/s]\n"
          ]
        },
        {
          "name": "stdout",
          "output_type": "stream",
          "text": [
            "\n"
          ]
        },
        {
          "name": "stderr",
          "output_type": "stream",
          "text": [
            "Train Epoch: [47/90] Loss: 0.9633 ACC@1: 66.31% ACC@5: 96.46%: 100%|██████████| 391/391 [00:06<00:00, 62.38it/s]\n",
            "Test Epoch: [47/90] Loss: 0.8571 ACC@1: 68.79% ACC@5: 97.92%: 100%|██████████| 79/79 [00:01<00:00, 69.87it/s]\n"
          ]
        },
        {
          "name": "stdout",
          "output_type": "stream",
          "text": [
            "\n"
          ]
        },
        {
          "name": "stderr",
          "output_type": "stream",
          "text": [
            "Train Epoch: [48/90] Loss: 0.9648 ACC@1: 66.27% ACC@5: 96.55%: 100%|██████████| 391/391 [00:06<00:00, 62.56it/s]\n",
            "Test Epoch: [48/90] Loss: 0.8686 ACC@1: 68.62% ACC@5: 97.88%: 100%|██████████| 79/79 [00:01<00:00, 72.91it/s]\n"
          ]
        },
        {
          "name": "stdout",
          "output_type": "stream",
          "text": [
            "\n"
          ]
        },
        {
          "name": "stderr",
          "output_type": "stream",
          "text": [
            "Train Epoch: [49/90] Loss: 0.9665 ACC@1: 66.10% ACC@5: 96.62%: 100%|██████████| 391/391 [00:06<00:00, 63.44it/s]\n",
            "Test Epoch: [49/90] Loss: 0.8527 ACC@1: 69.12% ACC@5: 97.85%: 100%|██████████| 79/79 [00:01<00:00, 73.38it/s]\n"
          ]
        },
        {
          "name": "stdout",
          "output_type": "stream",
          "text": [
            "\n"
          ]
        },
        {
          "name": "stderr",
          "output_type": "stream",
          "text": [
            "Train Epoch: [50/90] Loss: 0.9655 ACC@1: 65.94% ACC@5: 96.59%: 100%|██████████| 391/391 [00:06<00:00, 62.37it/s]\n",
            "Test Epoch: [50/90] Loss: 0.8636 ACC@1: 68.87% ACC@5: 97.85%: 100%|██████████| 79/79 [00:01<00:00, 73.14it/s]\n"
          ]
        },
        {
          "name": "stdout",
          "output_type": "stream",
          "text": [
            "\n"
          ]
        },
        {
          "name": "stderr",
          "output_type": "stream",
          "text": [
            "Train Epoch: [51/90] Loss: 0.9616 ACC@1: 66.24% ACC@5: 96.77%: 100%|██████████| 391/391 [00:06<00:00, 62.42it/s]\n",
            "Test Epoch: [51/90] Loss: 0.8527 ACC@1: 68.76% ACC@5: 98.06%: 100%|██████████| 79/79 [00:01<00:00, 69.65it/s]\n"
          ]
        },
        {
          "name": "stdout",
          "output_type": "stream",
          "text": [
            "\n"
          ]
        },
        {
          "name": "stderr",
          "output_type": "stream",
          "text": [
            "Train Epoch: [52/90] Loss: 0.9645 ACC@1: 66.23% ACC@5: 96.48%: 100%|██████████| 391/391 [00:06<00:00, 63.09it/s]\n",
            "Test Epoch: [52/90] Loss: 0.8709 ACC@1: 68.29% ACC@5: 97.74%: 100%|██████████| 79/79 [00:01<00:00, 72.44it/s]\n"
          ]
        },
        {
          "name": "stdout",
          "output_type": "stream",
          "text": [
            "\n"
          ]
        },
        {
          "name": "stderr",
          "output_type": "stream",
          "text": [
            "Train Epoch: [53/90] Loss: 0.9682 ACC@1: 66.15% ACC@5: 96.50%: 100%|██████████| 391/391 [00:06<00:00, 62.25it/s]\n",
            "Test Epoch: [53/90] Loss: 0.8672 ACC@1: 68.88% ACC@5: 97.79%: 100%|██████████| 79/79 [00:01<00:00, 72.25it/s]\n"
          ]
        },
        {
          "name": "stdout",
          "output_type": "stream",
          "text": [
            "\n"
          ]
        },
        {
          "name": "stderr",
          "output_type": "stream",
          "text": [
            "Train Epoch: [54/90] Loss: 0.9641 ACC@1: 65.96% ACC@5: 96.65%: 100%|██████████| 391/391 [00:06<00:00, 62.51it/s]\n",
            "Test Epoch: [54/90] Loss: 0.8661 ACC@1: 68.60% ACC@5: 97.95%: 100%|██████████| 79/79 [00:01<00:00, 74.06it/s]\n"
          ]
        },
        {
          "name": "stdout",
          "output_type": "stream",
          "text": [
            "\n"
          ]
        },
        {
          "name": "stderr",
          "output_type": "stream",
          "text": [
            "Train Epoch: [55/90] Loss: 0.9629 ACC@1: 66.21% ACC@5: 96.56%: 100%|██████████| 391/391 [00:06<00:00, 62.62it/s]\n",
            "Test Epoch: [55/90] Loss: 0.8646 ACC@1: 68.62% ACC@5: 97.90%: 100%|██████████| 79/79 [00:01<00:00, 74.27it/s]\n"
          ]
        },
        {
          "name": "stdout",
          "output_type": "stream",
          "text": [
            "\n"
          ]
        },
        {
          "name": "stderr",
          "output_type": "stream",
          "text": [
            "Train Epoch: [56/90] Loss: 0.9739 ACC@1: 66.06% ACC@5: 96.47%: 100%|██████████| 391/391 [00:06<00:00, 63.43it/s]\n",
            "Test Epoch: [56/90] Loss: 0.8623 ACC@1: 68.85% ACC@5: 97.85%: 100%|██████████| 79/79 [00:01<00:00, 70.21it/s]\n"
          ]
        },
        {
          "name": "stdout",
          "output_type": "stream",
          "text": [
            "\n"
          ]
        },
        {
          "name": "stderr",
          "output_type": "stream",
          "text": [
            "Train Epoch: [57/90] Loss: 0.9659 ACC@1: 66.11% ACC@5: 96.70%: 100%|██████████| 391/391 [00:06<00:00, 62.92it/s]\n",
            "Test Epoch: [57/90] Loss: 0.8712 ACC@1: 68.23% ACC@5: 97.74%: 100%|██████████| 79/79 [00:01<00:00, 70.14it/s]\n"
          ]
        },
        {
          "name": "stdout",
          "output_type": "stream",
          "text": [
            "\n"
          ]
        },
        {
          "name": "stderr",
          "output_type": "stream",
          "text": [
            "Train Epoch: [58/90] Loss: 0.9704 ACC@1: 65.93% ACC@5: 96.61%: 100%|██████████| 391/391 [00:06<00:00, 62.55it/s]\n",
            "Test Epoch: [58/90] Loss: 0.8660 ACC@1: 68.79% ACC@5: 97.87%: 100%|██████████| 79/79 [00:01<00:00, 69.37it/s]\n"
          ]
        },
        {
          "name": "stdout",
          "output_type": "stream",
          "text": [
            "\n"
          ]
        },
        {
          "name": "stderr",
          "output_type": "stream",
          "text": [
            "Train Epoch: [59/90] Loss: 0.9622 ACC@1: 66.30% ACC@5: 96.64%: 100%|██████████| 391/391 [00:06<00:00, 62.13it/s]\n",
            "Test Epoch: [59/90] Loss: 0.8643 ACC@1: 68.45% ACC@5: 97.97%: 100%|██████████| 79/79 [00:01<00:00, 68.64it/s]\n"
          ]
        },
        {
          "name": "stdout",
          "output_type": "stream",
          "text": [
            "\n"
          ]
        },
        {
          "name": "stderr",
          "output_type": "stream",
          "text": [
            "Train Epoch: [60/90] Loss: 0.9639 ACC@1: 66.31% ACC@5: 96.54%: 100%|██████████| 391/391 [00:06<00:00, 62.28it/s]\n",
            "Test Epoch: [60/90] Loss: 0.8679 ACC@1: 68.54% ACC@5: 97.68%: 100%|██████████| 79/79 [00:01<00:00, 68.78it/s]\n"
          ]
        },
        {
          "name": "stdout",
          "output_type": "stream",
          "text": [
            "\n"
          ]
        },
        {
          "name": "stderr",
          "output_type": "stream",
          "text": [
            "Train Epoch: [61/90] Loss: 0.9738 ACC@1: 65.87% ACC@5: 96.56%: 100%|██████████| 391/391 [00:06<00:00, 62.41it/s]\n",
            "Test Epoch: [61/90] Loss: 0.8585 ACC@1: 69.10% ACC@5: 97.90%: 100%|██████████| 79/79 [00:01<00:00, 72.21it/s]\n"
          ]
        },
        {
          "name": "stdout",
          "output_type": "stream",
          "text": [
            "\n"
          ]
        },
        {
          "name": "stderr",
          "output_type": "stream",
          "text": [
            "Train Epoch: [62/90] Loss: 0.9581 ACC@1: 66.12% ACC@5: 96.69%: 100%|██████████| 391/391 [00:06<00:00, 63.02it/s]\n",
            "Test Epoch: [62/90] Loss: 0.8634 ACC@1: 68.95% ACC@5: 97.79%: 100%|██████████| 79/79 [00:01<00:00, 75.88it/s]\n"
          ]
        },
        {
          "name": "stdout",
          "output_type": "stream",
          "text": [
            "\n"
          ]
        },
        {
          "name": "stderr",
          "output_type": "stream",
          "text": [
            "Train Epoch: [63/90] Loss: 0.9634 ACC@1: 66.27% ACC@5: 96.64%: 100%|██████████| 391/391 [00:06<00:00, 63.06it/s]\n",
            "Test Epoch: [63/90] Loss: 0.8752 ACC@1: 68.49% ACC@5: 97.79%: 100%|██████████| 79/79 [00:01<00:00, 71.67it/s]\n"
          ]
        },
        {
          "name": "stdout",
          "output_type": "stream",
          "text": [
            "\n"
          ]
        },
        {
          "name": "stderr",
          "output_type": "stream",
          "text": [
            "Train Epoch: [64/90] Loss: 0.9576 ACC@1: 66.74% ACC@5: 96.57%: 100%|██████████| 391/391 [00:06<00:00, 63.20it/s]\n",
            "Test Epoch: [64/90] Loss: 0.8829 ACC@1: 67.86% ACC@5: 97.69%: 100%|██████████| 79/79 [00:01<00:00, 74.94it/s]\n"
          ]
        },
        {
          "name": "stdout",
          "output_type": "stream",
          "text": [
            "\n"
          ]
        },
        {
          "name": "stderr",
          "output_type": "stream",
          "text": [
            "Train Epoch: [65/90] Loss: 0.9688 ACC@1: 65.95% ACC@5: 96.57%: 100%|██████████| 391/391 [00:06<00:00, 63.28it/s]\n",
            "Test Epoch: [65/90] Loss: 0.8651 ACC@1: 68.45% ACC@5: 97.87%: 100%|██████████| 79/79 [00:01<00:00, 72.88it/s]\n"
          ]
        },
        {
          "name": "stdout",
          "output_type": "stream",
          "text": [
            "\n"
          ]
        },
        {
          "name": "stderr",
          "output_type": "stream",
          "text": [
            "Train Epoch: [66/90] Loss: 0.9659 ACC@1: 66.16% ACC@5: 96.48%: 100%|██████████| 391/391 [00:06<00:00, 62.68it/s]\n",
            "Test Epoch: [66/90] Loss: 0.8586 ACC@1: 68.91% ACC@5: 97.85%: 100%|██████████| 79/79 [00:01<00:00, 75.67it/s]\n"
          ]
        },
        {
          "name": "stdout",
          "output_type": "stream",
          "text": [
            "\n"
          ]
        },
        {
          "name": "stderr",
          "output_type": "stream",
          "text": [
            "Train Epoch: [67/90] Loss: 0.9644 ACC@1: 66.12% ACC@5: 96.59%: 100%|██████████| 391/391 [00:06<00:00, 62.65it/s]\n",
            "Test Epoch: [67/90] Loss: 0.8565 ACC@1: 68.85% ACC@5: 98.01%: 100%|██████████| 79/79 [00:01<00:00, 72.97it/s]\n"
          ]
        },
        {
          "name": "stdout",
          "output_type": "stream",
          "text": [
            "\n"
          ]
        },
        {
          "name": "stderr",
          "output_type": "stream",
          "text": [
            "Train Epoch: [68/90] Loss: 0.9668 ACC@1: 66.11% ACC@5: 96.48%: 100%|██████████| 391/391 [00:06<00:00, 61.73it/s]\n",
            "Test Epoch: [68/90] Loss: 0.8535 ACC@1: 69.34% ACC@5: 97.84%: 100%|██████████| 79/79 [00:01<00:00, 70.87it/s]\n"
          ]
        },
        {
          "name": "stdout",
          "output_type": "stream",
          "text": [
            "\n"
          ]
        },
        {
          "name": "stderr",
          "output_type": "stream",
          "text": [
            "Train Epoch: [69/90] Loss: 0.9610 ACC@1: 66.34% ACC@5: 96.61%: 100%|██████████| 391/391 [00:06<00:00, 60.06it/s]\n",
            "Test Epoch: [69/90] Loss: 0.8540 ACC@1: 69.22% ACC@5: 97.90%: 100%|██████████| 79/79 [00:01<00:00, 73.41it/s]\n"
          ]
        },
        {
          "name": "stdout",
          "output_type": "stream",
          "text": [
            "\n"
          ]
        },
        {
          "name": "stderr",
          "output_type": "stream",
          "text": [
            "Train Epoch: [70/90] Loss: 0.9635 ACC@1: 66.39% ACC@5: 96.60%: 100%|██████████| 391/391 [00:06<00:00, 62.57it/s]\n",
            "Test Epoch: [70/90] Loss: 0.8538 ACC@1: 69.11% ACC@5: 97.90%: 100%|██████████| 79/79 [00:01<00:00, 69.87it/s]\n"
          ]
        },
        {
          "name": "stdout",
          "output_type": "stream",
          "text": [
            "\n"
          ]
        },
        {
          "name": "stderr",
          "output_type": "stream",
          "text": [
            "Train Epoch: [71/90] Loss: 0.9598 ACC@1: 66.56% ACC@5: 96.60%: 100%|██████████| 391/391 [00:06<00:00, 62.53it/s]\n",
            "Test Epoch: [71/90] Loss: 0.8696 ACC@1: 68.86% ACC@5: 97.75%: 100%|██████████| 79/79 [00:01<00:00, 70.36it/s]\n"
          ]
        },
        {
          "name": "stdout",
          "output_type": "stream",
          "text": [
            "\n"
          ]
        },
        {
          "name": "stderr",
          "output_type": "stream",
          "text": [
            "Train Epoch: [72/90] Loss: 0.9670 ACC@1: 66.13% ACC@5: 96.71%: 100%|██████████| 391/391 [00:06<00:00, 62.25it/s]\n",
            "Test Epoch: [72/90] Loss: 0.8767 ACC@1: 68.22% ACC@5: 97.71%: 100%|██████████| 79/79 [00:01<00:00, 75.97it/s]\n"
          ]
        },
        {
          "name": "stdout",
          "output_type": "stream",
          "text": [
            "\n"
          ]
        },
        {
          "name": "stderr",
          "output_type": "stream",
          "text": [
            "Train Epoch: [73/90] Loss: 0.9634 ACC@1: 66.26% ACC@5: 96.56%: 100%|██████████| 391/391 [00:06<00:00, 62.59it/s]\n",
            "Test Epoch: [73/90] Loss: 0.8661 ACC@1: 68.80% ACC@5: 97.82%: 100%|██████████| 79/79 [00:01<00:00, 74.65it/s]\n"
          ]
        },
        {
          "name": "stdout",
          "output_type": "stream",
          "text": [
            "\n"
          ]
        },
        {
          "name": "stderr",
          "output_type": "stream",
          "text": [
            "Train Epoch: [74/90] Loss: 0.9629 ACC@1: 66.16% ACC@5: 96.60%: 100%|██████████| 391/391 [00:06<00:00, 63.11it/s]\n",
            "Test Epoch: [74/90] Loss: 0.8509 ACC@1: 69.21% ACC@5: 97.89%: 100%|██████████| 79/79 [00:01<00:00, 69.54it/s]\n"
          ]
        },
        {
          "name": "stdout",
          "output_type": "stream",
          "text": [
            "\n"
          ]
        },
        {
          "name": "stderr",
          "output_type": "stream",
          "text": [
            "Train Epoch: [75/90] Loss: 0.9588 ACC@1: 66.46% ACC@5: 96.70%: 100%|██████████| 391/391 [00:06<00:00, 63.34it/s]\n",
            "Test Epoch: [75/90] Loss: 0.8680 ACC@1: 68.63% ACC@5: 97.84%: 100%|██████████| 79/79 [00:01<00:00, 72.05it/s]\n"
          ]
        },
        {
          "name": "stdout",
          "output_type": "stream",
          "text": [
            "\n"
          ]
        },
        {
          "name": "stderr",
          "output_type": "stream",
          "text": [
            "Train Epoch: [76/90] Loss: 0.9605 ACC@1: 66.49% ACC@5: 96.60%: 100%|██████████| 391/391 [00:06<00:00, 62.57it/s]\n",
            "Test Epoch: [76/90] Loss: 0.8650 ACC@1: 68.54% ACC@5: 97.86%: 100%|██████████| 79/79 [00:01<00:00, 70.68it/s]\n"
          ]
        },
        {
          "name": "stdout",
          "output_type": "stream",
          "text": [
            "\n"
          ]
        },
        {
          "name": "stderr",
          "output_type": "stream",
          "text": [
            "Train Epoch: [77/90] Loss: 0.9655 ACC@1: 66.12% ACC@5: 96.50%: 100%|██████████| 391/391 [00:06<00:00, 62.96it/s]\n",
            "Test Epoch: [77/90] Loss: 0.8563 ACC@1: 69.22% ACC@5: 97.97%: 100%|██████████| 79/79 [00:01<00:00, 74.82it/s]\n"
          ]
        },
        {
          "name": "stdout",
          "output_type": "stream",
          "text": [
            "\n"
          ]
        },
        {
          "name": "stderr",
          "output_type": "stream",
          "text": [
            "Train Epoch: [78/90] Loss: 0.9648 ACC@1: 66.09% ACC@5: 96.49%: 100%|██████████| 391/391 [00:06<00:00, 63.05it/s]\n",
            "Test Epoch: [78/90] Loss: 0.8704 ACC@1: 68.65% ACC@5: 97.84%: 100%|██████████| 79/79 [00:01<00:00, 69.65it/s]\n"
          ]
        },
        {
          "name": "stdout",
          "output_type": "stream",
          "text": [
            "\n"
          ]
        },
        {
          "name": "stderr",
          "output_type": "stream",
          "text": [
            "Train Epoch: [79/90] Loss: 0.9664 ACC@1: 66.25% ACC@5: 96.58%: 100%|██████████| 391/391 [00:06<00:00, 61.57it/s]\n",
            "Test Epoch: [79/90] Loss: 0.8534 ACC@1: 69.19% ACC@5: 97.87%: 100%|██████████| 79/79 [00:01<00:00, 70.69it/s]\n"
          ]
        },
        {
          "name": "stdout",
          "output_type": "stream",
          "text": [
            "\n"
          ]
        },
        {
          "name": "stderr",
          "output_type": "stream",
          "text": [
            "Train Epoch: [80/90] Loss: 0.9605 ACC@1: 66.23% ACC@5: 96.57%: 100%|██████████| 391/391 [00:06<00:00, 61.63it/s]\n",
            "Test Epoch: [80/90] Loss: 0.8481 ACC@1: 69.28% ACC@5: 98.08%: 100%|██████████| 79/79 [00:01<00:00, 70.01it/s]\n"
          ]
        },
        {
          "name": "stdout",
          "output_type": "stream",
          "text": [
            "\n"
          ]
        },
        {
          "name": "stderr",
          "output_type": "stream",
          "text": [
            "Train Epoch: [81/90] Loss: 0.9568 ACC@1: 66.56% ACC@5: 96.75%: 100%|██████████| 391/391 [00:06<00:00, 62.11it/s]\n",
            "Test Epoch: [81/90] Loss: 0.8683 ACC@1: 68.58% ACC@5: 98.00%: 100%|██████████| 79/79 [00:01<00:00, 70.30it/s]\n"
          ]
        },
        {
          "name": "stdout",
          "output_type": "stream",
          "text": [
            "\n"
          ]
        },
        {
          "name": "stderr",
          "output_type": "stream",
          "text": [
            "Train Epoch: [82/90] Loss: 0.9666 ACC@1: 66.19% ACC@5: 96.44%: 100%|██████████| 391/391 [00:06<00:00, 61.83it/s]\n",
            "Test Epoch: [82/90] Loss: 0.8487 ACC@1: 69.46% ACC@5: 98.01%: 100%|██████████| 79/79 [00:01<00:00, 67.65it/s]\n"
          ]
        },
        {
          "name": "stdout",
          "output_type": "stream",
          "text": [
            "\n"
          ]
        },
        {
          "name": "stderr",
          "output_type": "stream",
          "text": [
            "Train Epoch: [83/90] Loss: 0.9667 ACC@1: 66.22% ACC@5: 96.61%: 100%|██████████| 391/391 [00:06<00:00, 61.12it/s]\n",
            "Test Epoch: [83/90] Loss: 0.8638 ACC@1: 69.12% ACC@5: 97.67%: 100%|██████████| 79/79 [00:01<00:00, 73.21it/s]\n"
          ]
        },
        {
          "name": "stdout",
          "output_type": "stream",
          "text": [
            "\n"
          ]
        },
        {
          "name": "stderr",
          "output_type": "stream",
          "text": [
            "Train Epoch: [84/90] Loss: 0.9658 ACC@1: 66.31% ACC@5: 96.45%: 100%|██████████| 391/391 [00:06<00:00, 62.73it/s]\n",
            "Test Epoch: [84/90] Loss: 0.8765 ACC@1: 68.16% ACC@5: 97.76%: 100%|██████████| 79/79 [00:01<00:00, 71.44it/s]\n"
          ]
        },
        {
          "name": "stdout",
          "output_type": "stream",
          "text": [
            "\n"
          ]
        },
        {
          "name": "stderr",
          "output_type": "stream",
          "text": [
            "Train Epoch: [85/90] Loss: 0.9679 ACC@1: 66.25% ACC@5: 96.53%: 100%|██████████| 391/391 [00:06<00:00, 62.91it/s]\n",
            "Test Epoch: [85/90] Loss: 0.8834 ACC@1: 67.79% ACC@5: 97.80%: 100%|██████████| 79/79 [00:01<00:00, 74.07it/s]\n"
          ]
        },
        {
          "name": "stdout",
          "output_type": "stream",
          "text": [
            "\n"
          ]
        },
        {
          "name": "stderr",
          "output_type": "stream",
          "text": [
            "Train Epoch: [86/90] Loss: 0.9610 ACC@1: 66.25% ACC@5: 96.69%: 100%|██████████| 391/391 [00:06<00:00, 62.13it/s]\n",
            "Test Epoch: [86/90] Loss: 0.8634 ACC@1: 68.85% ACC@5: 97.82%: 100%|██████████| 79/79 [00:01<00:00, 73.02it/s]\n"
          ]
        },
        {
          "name": "stdout",
          "output_type": "stream",
          "text": [
            "\n"
          ]
        },
        {
          "name": "stderr",
          "output_type": "stream",
          "text": [
            "Train Epoch: [87/90] Loss: 0.9630 ACC@1: 66.25% ACC@5: 96.60%: 100%|██████████| 391/391 [00:06<00:00, 61.96it/s]\n",
            "Test Epoch: [87/90] Loss: 0.8606 ACC@1: 68.99% ACC@5: 97.85%: 100%|██████████| 79/79 [00:01<00:00, 74.27it/s]\n"
          ]
        },
        {
          "name": "stdout",
          "output_type": "stream",
          "text": [
            "\n"
          ]
        },
        {
          "name": "stderr",
          "output_type": "stream",
          "text": [
            "Train Epoch: [88/90] Loss: 0.9653 ACC@1: 66.17% ACC@5: 96.54%: 100%|██████████| 391/391 [00:06<00:00, 61.75it/s]\n",
            "Test Epoch: [88/90] Loss: 0.8575 ACC@1: 68.94% ACC@5: 97.90%: 100%|██████████| 79/79 [00:01<00:00, 74.27it/s]\n"
          ]
        },
        {
          "name": "stdout",
          "output_type": "stream",
          "text": [
            "\n"
          ]
        },
        {
          "name": "stderr",
          "output_type": "stream",
          "text": [
            "Train Epoch: [89/90] Loss: 0.9631 ACC@1: 66.19% ACC@5: 96.69%: 100%|██████████| 391/391 [00:06<00:00, 61.60it/s]\n",
            "Test Epoch: [89/90] Loss: 0.8687 ACC@1: 68.45% ACC@5: 97.80%: 100%|██████████| 79/79 [00:01<00:00, 71.50it/s]\n"
          ]
        },
        {
          "name": "stdout",
          "output_type": "stream",
          "text": [
            "\n"
          ]
        },
        {
          "name": "stderr",
          "output_type": "stream",
          "text": [
            "Train Epoch: [90/90] Loss: 0.9653 ACC@1: 66.09% ACC@5: 96.53%: 100%|██████████| 391/391 [00:06<00:00, 61.77it/s]\n",
            "Test Epoch: [90/90] Loss: 0.8538 ACC@1: 69.30% ACC@5: 97.99%: 100%|██████████| 79/79 [00:01<00:00, 72.05it/s]\n"
          ]
        }
      ],
      "source": [
        "print(f\"evaluating {int(100*LOAD_PCT)}pct data\")\n",
        "results = {\n",
        "    \"train_loss\": [],\n",
        "    \"train_acc@1\": [],\n",
        "    \"train_acc@5\": [],\n",
        "    \"test_loss\": [],\n",
        "    \"test_acc@1\": [],\n",
        "    \"test_acc@5\": [],\n",
        "}\n",
        "\n",
        "best_acc = 0.0\n",
        "\n",
        "for epoch in range(1, EPOCHS + 1):\n",
        "\n",
        "    print(\"\")\n",
        "\n",
        "    model.train()\n",
        "\n",
        "    total_loss, total_correct_1, total_correct_5, total_num, data_bar = (\n",
        "        0.0,\n",
        "        0.0,\n",
        "        0.0,\n",
        "        0,\n",
        "        tqdm(train_loader(0)),\n",
        "    )\n",
        "    with torch.enable_grad():\n",
        "        for data, target in data_bar:\n",
        "            data, target = data.cuda(non_blocking=True), target.cuda(non_blocking=True)\n",
        "\n",
        "            out = model(data)\n",
        "            loss = criterion(out, target)\n",
        "\n",
        "            optimizer.zero_grad()\n",
        "            loss.backward()\n",
        "            optimizer.step()\n",
        "\n",
        "            total_num += data.size(0)\n",
        "            total_loss += loss.item() * data.size(0)\n",
        "\n",
        "            prediction = torch.argsort(out, dim=-1, descending=True)\n",
        "            total_correct_1 += torch.sum(\n",
        "                (prediction[:, 0:1] == target.unsqueeze(dim=-1)).any(dim=-1).float()\n",
        "            ).item()\n",
        "            total_correct_5 += torch.sum(\n",
        "                (prediction[:, 0:5] == target.unsqueeze(dim=-1)).any(dim=-1).float()\n",
        "            ).item()\n",
        "\n",
        "            data_bar.set_description(\n",
        "                \"{} Epoch: [{}/{}] Loss: {:.4f} ACC@1: {:.2f}% ACC@5: {:.2f}%\".format(\n",
        "                    \"Train\",\n",
        "                    epoch,\n",
        "                    EPOCHS,\n",
        "                    total_loss / total_num,\n",
        "                    total_correct_1 / total_num * 100,\n",
        "                    total_correct_5 / total_num * 100,\n",
        "                )\n",
        "            )\n",
        "\n",
        "    train_loss = total_loss / total_num\n",
        "    train_acc_1 = total_correct_1 / total_num * 100\n",
        "    train_acc_5 = total_correct_5 / total_num * 100\n",
        "\n",
        "    results[\"train_loss\"].append(train_loss)\n",
        "    results[\"train_acc@1\"].append(train_acc_1)\n",
        "    results[\"train_acc@5\"].append(train_acc_5)\n",
        "\n",
        "    model.eval()\n",
        "\n",
        "    total_loss, total_correct_1, total_correct_5, total_num, data_bar = (\n",
        "        0.0,\n",
        "        0.0,\n",
        "        0.0,\n",
        "        0,\n",
        "        tqdm(test_loader(0)),\n",
        "    )\n",
        "    with torch.no_grad():\n",
        "        for data, target in data_bar:\n",
        "            data, target = data.cuda(non_blocking=True), target.cuda(non_blocking=True)\n",
        "            out = model(data)\n",
        "            loss = criterion(out, target)\n",
        "\n",
        "            total_num += data.size(0)\n",
        "            total_loss += loss.item() * data.size(0)\n",
        "\n",
        "            prediction = torch.argsort(out, dim=-1, descending=True)\n",
        "            total_correct_1 += torch.sum(\n",
        "                (prediction[:, 0:1] == target.unsqueeze(dim=-1)).any(dim=-1).float()\n",
        "            ).item()\n",
        "            total_correct_5 += torch.sum(\n",
        "                (prediction[:, 0:5] == target.unsqueeze(dim=-1)).any(dim=-1).float()\n",
        "            ).item()\n",
        "\n",
        "            data_bar.set_description(\n",
        "                \"{} Epoch: [{}/{}] Loss: {:.4f} ACC@1: {:.2f}% ACC@5: {:.2f}%\".format(\n",
        "                    \"Test\",\n",
        "                    epoch,\n",
        "                    EPOCHS,\n",
        "                    total_loss / total_num,\n",
        "                    total_correct_1 / total_num * 100,\n",
        "                    total_correct_5 / total_num * 100,\n",
        "                )\n",
        "            )\n",
        "\n",
        "    test_loss = total_loss / total_num\n",
        "    test_acc_1 = total_correct_1 / total_num * 100\n",
        "    test_acc_5 = total_correct_5 / total_num * 100\n",
        "\n",
        "    results[\"test_loss\"].append(test_loss)\n",
        "    results[\"test_acc@1\"].append(test_acc_1)\n",
        "    results[\"test_acc@5\"].append(test_acc_5)\n",
        "\n",
        "    # # save statistics\n",
        "    data_frame = pd.DataFrame(data=results, index=range(1, epoch + 1))\n",
        "    data_frame.to_csv(f\"./results/{save_name_eval}_lineval{int(100*LOAD_PCT)}pct_stats.csv\", index_label='epoch')\n",
        "\n",
        "    if test_acc_1 > best_acc:\n",
        "        best_acc = test_acc_1\n",
        "        # torch.save(model.state_dict(), '/workspaces/RepLearning/saved_models/linear_model.pth')\n",
        "        torch.save(model.state_dict(), f\"./results/{save_name_eval}_lineval{int(100*LOAD_PCT)}pct.pth\")\n"
      ]
    },
    {
      "cell_type": "code",
      "execution_count": 45,
      "metadata": {
        "colab": {
          "base_uri": "https://localhost:8080/",
          "height": 201
        },
        "id": "2ZXeSbO9cZG7",
        "outputId": "b1d645cd-8503-41e7-9e1d-9bff261198e4"
      },
      "outputs": [
        {
          "data": {
            "text/html": [
              "\n",
              "  <div id=\"df-581e5e6d-b295-4104-9e05-47bcb451e94f\">\n",
              "    <div class=\"colab-df-container\">\n",
              "      <div>\n",
              "<style scoped>\n",
              "    .dataframe tbody tr th:only-of-type {\n",
              "        vertical-align: middle;\n",
              "    }\n",
              "\n",
              "    .dataframe tbody tr th {\n",
              "        vertical-align: top;\n",
              "    }\n",
              "\n",
              "    .dataframe thead th {\n",
              "        text-align: right;\n",
              "    }\n",
              "</style>\n",
              "<table border=\"1\" class=\"dataframe\">\n",
              "  <thead>\n",
              "    <tr style=\"text-align: right;\">\n",
              "      <th></th>\n",
              "      <th>train_loss</th>\n",
              "      <th>train_acc@1</th>\n",
              "      <th>train_acc@5</th>\n",
              "      <th>test_loss</th>\n",
              "      <th>test_acc@1</th>\n",
              "      <th>test_acc@5</th>\n",
              "    </tr>\n",
              "  </thead>\n",
              "  <tbody>\n",
              "    <tr>\n",
              "      <th>86</th>\n",
              "      <td>0.960983</td>\n",
              "      <td>66.252</td>\n",
              "      <td>96.690</td>\n",
              "      <td>0.863361</td>\n",
              "      <td>68.85</td>\n",
              "      <td>97.82</td>\n",
              "    </tr>\n",
              "    <tr>\n",
              "      <th>87</th>\n",
              "      <td>0.963018</td>\n",
              "      <td>66.254</td>\n",
              "      <td>96.604</td>\n",
              "      <td>0.860634</td>\n",
              "      <td>68.99</td>\n",
              "      <td>97.85</td>\n",
              "    </tr>\n",
              "    <tr>\n",
              "      <th>88</th>\n",
              "      <td>0.965272</td>\n",
              "      <td>66.172</td>\n",
              "      <td>96.538</td>\n",
              "      <td>0.857543</td>\n",
              "      <td>68.94</td>\n",
              "      <td>97.90</td>\n",
              "    </tr>\n",
              "    <tr>\n",
              "      <th>89</th>\n",
              "      <td>0.963108</td>\n",
              "      <td>66.188</td>\n",
              "      <td>96.688</td>\n",
              "      <td>0.868718</td>\n",
              "      <td>68.45</td>\n",
              "      <td>97.80</td>\n",
              "    </tr>\n",
              "    <tr>\n",
              "      <th>90</th>\n",
              "      <td>0.965289</td>\n",
              "      <td>66.094</td>\n",
              "      <td>96.530</td>\n",
              "      <td>0.853815</td>\n",
              "      <td>69.30</td>\n",
              "      <td>97.99</td>\n",
              "    </tr>\n",
              "  </tbody>\n",
              "</table>\n",
              "</div>\n",
              "      <button class=\"colab-df-convert\" onclick=\"convertToInteractive('df-581e5e6d-b295-4104-9e05-47bcb451e94f')\"\n",
              "              title=\"Convert this dataframe to an interactive table.\"\n",
              "              style=\"display:none;\">\n",
              "        \n",
              "  <svg xmlns=\"http://www.w3.org/2000/svg\" height=\"24px\"viewBox=\"0 0 24 24\"\n",
              "       width=\"24px\">\n",
              "    <path d=\"M0 0h24v24H0V0z\" fill=\"none\"/>\n",
              "    <path d=\"M18.56 5.44l.94 2.06.94-2.06 2.06-.94-2.06-.94-.94-2.06-.94 2.06-2.06.94zm-11 1L8.5 8.5l.94-2.06 2.06-.94-2.06-.94L8.5 2.5l-.94 2.06-2.06.94zm10 10l.94 2.06.94-2.06 2.06-.94-2.06-.94-.94-2.06-.94 2.06-2.06.94z\"/><path d=\"M17.41 7.96l-1.37-1.37c-.4-.4-.92-.59-1.43-.59-.52 0-1.04.2-1.43.59L10.3 9.45l-7.72 7.72c-.78.78-.78 2.05 0 2.83L4 21.41c.39.39.9.59 1.41.59.51 0 1.02-.2 1.41-.59l7.78-7.78 2.81-2.81c.8-.78.8-2.07 0-2.86zM5.41 20L4 18.59l7.72-7.72 1.47 1.35L5.41 20z\"/>\n",
              "  </svg>\n",
              "      </button>\n",
              "      \n",
              "  <style>\n",
              "    .colab-df-container {\n",
              "      display:flex;\n",
              "      flex-wrap:wrap;\n",
              "      gap: 12px;\n",
              "    }\n",
              "\n",
              "    .colab-df-convert {\n",
              "      background-color: #E8F0FE;\n",
              "      border: none;\n",
              "      border-radius: 50%;\n",
              "      cursor: pointer;\n",
              "      display: none;\n",
              "      fill: #1967D2;\n",
              "      height: 32px;\n",
              "      padding: 0 0 0 0;\n",
              "      width: 32px;\n",
              "    }\n",
              "\n",
              "    .colab-df-convert:hover {\n",
              "      background-color: #E2EBFA;\n",
              "      box-shadow: 0px 1px 2px rgba(60, 64, 67, 0.3), 0px 1px 3px 1px rgba(60, 64, 67, 0.15);\n",
              "      fill: #174EA6;\n",
              "    }\n",
              "\n",
              "    [theme=dark] .colab-df-convert {\n",
              "      background-color: #3B4455;\n",
              "      fill: #D2E3FC;\n",
              "    }\n",
              "\n",
              "    [theme=dark] .colab-df-convert:hover {\n",
              "      background-color: #434B5C;\n",
              "      box-shadow: 0px 1px 3px 1px rgba(0, 0, 0, 0.15);\n",
              "      filter: drop-shadow(0px 1px 2px rgba(0, 0, 0, 0.3));\n",
              "      fill: #FFFFFF;\n",
              "    }\n",
              "  </style>\n",
              "\n",
              "      <script>\n",
              "        const buttonEl =\n",
              "          document.querySelector('#df-581e5e6d-b295-4104-9e05-47bcb451e94f button.colab-df-convert');\n",
              "        buttonEl.style.display =\n",
              "          google.colab.kernel.accessAllowed ? 'block' : 'none';\n",
              "\n",
              "        async function convertToInteractive(key) {\n",
              "          const element = document.querySelector('#df-581e5e6d-b295-4104-9e05-47bcb451e94f');\n",
              "          const dataTable =\n",
              "            await google.colab.kernel.invokeFunction('convertToInteractive',\n",
              "                                                     [key], {});\n",
              "          if (!dataTable) return;\n",
              "\n",
              "          const docLinkHtml = 'Like what you see? Visit the ' +\n",
              "            '<a target=\"_blank\" href=https://colab.research.google.com/notebooks/data_table.ipynb>data table notebook</a>'\n",
              "            + ' to learn more about interactive tables.';\n",
              "          element.innerHTML = '';\n",
              "          dataTable['output_type'] = 'display_data';\n",
              "          await google.colab.output.renderOutput(dataTable, element);\n",
              "          const docLink = document.createElement('div');\n",
              "          docLink.innerHTML = docLinkHtml;\n",
              "          element.appendChild(docLink);\n",
              "        }\n",
              "      </script>\n",
              "    </div>\n",
              "  </div>\n",
              "  "
            ],
            "text/plain": [
              "    train_loss  train_acc@1  train_acc@5  test_loss  test_acc@1  test_acc@5\n",
              "86    0.960983       66.252       96.690   0.863361       68.85       97.82\n",
              "87    0.963018       66.254       96.604   0.860634       68.99       97.85\n",
              "88    0.965272       66.172       96.538   0.857543       68.94       97.90\n",
              "89    0.963108       66.188       96.688   0.868718       68.45       97.80\n",
              "90    0.965289       66.094       96.530   0.853815       69.30       97.99"
            ]
          },
          "execution_count": 45,
          "metadata": {},
          "output_type": "execute_result"
        }
      ],
      "source": [
        "data_frame.tail()"
      ]
    }
  ],
  "metadata": {
    "accelerator": "GPU",
    "colab": {
      "provenance": [],
      "toc_visible": true
    },
    "gpuClass": "premium",
    "kernelspec": {
      "display_name": "base",
      "language": "python",
      "name": "python3"
    },
    "language_info": {
      "codemirror_mode": {
        "name": "ipython",
        "version": 3
      },
      "file_extension": ".py",
      "mimetype": "text/x-python",
      "name": "python",
      "nbconvert_exporter": "python",
      "pygments_lexer": "ipython3",
      "version": "3.9.7"
    },
    "vscode": {
      "interpreter": {
        "hash": "80eb2a9e4ae1ee407f73e896670b694e999463bb60730fe1b6fe7b4af8b9f631"
      }
    }
  },
  "nbformat": 4,
  "nbformat_minor": 0
}
